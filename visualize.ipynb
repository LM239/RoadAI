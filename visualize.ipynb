{
 "cells": [
  {
   "cell_type": "code",
   "execution_count": 1,
   "metadata": {},
   "outputs": [],
   "source": [
    "%load_ext autoreload\n",
    "%autoreload 2\n",
    "import ipyleaflet as L\n",
    "from dataloader import TripsLoader\n",
    "from typing import Literal\n",
    "from ipywidgets import Layout\n"
   ]
  },
  {
   "cell_type": "code",
   "execution_count": 2,
   "metadata": {},
   "outputs": [],
   "source": [
    "loader = TripsLoader('05-09-2022')\n"
   ]
  },
  {
   "cell_type": "code",
   "execution_count": 3,
   "metadata": {},
   "outputs": [],
   "source": [
    "def get_trips_by_load(load: Literal['Stone', 'Equipment', 'Soil', '4']):\n",
    "    pass"
   ]
  },
  {
   "cell_type": "code",
   "execution_count": 4,
   "metadata": {},
   "outputs": [
    {
     "name": "stdout",
     "output_type": "stream",
     "text": [
      "{'AREA_OR_POINT': 'Area', 'TIFFTAG_SOFTWARE': 'pix4dmapper'}\n"
     ]
    }
   ],
   "source": [
    "from osgeo import gdal\n",
    "\n",
    "filename=gdal.Open(\"data/DroneData_2022-03-18/P07_22.03.18_Skaret-Orthomosaic.tiff\")\n",
    "\n",
    "metadata=filename.GetMetadata()\n",
    "\n",
    "print(metadata)\n"
   ]
  },
  {
   "cell_type": "code",
   "execution_count": null,
   "metadata": {},
   "outputs": [],
   "source": []
  },
  {
   "cell_type": "code",
   "execution_count": 5,
   "metadata": {},
   "outputs": [
    {
     "data": {
      "application/vnd.jupyter.widget-view+json": {
       "model_id": "faa1012e301142069e5616a948000283",
       "version_major": 2,
       "version_minor": 0
      },
      "text/plain": [
       "Map(center=[59.95, 10.3], controls=(ZoomControl(options=['position', 'zoom_in_text', 'zoom_in_title', 'zoom_ou…"
      ]
     },
     "metadata": {},
     "output_type": "display_data"
    }
   ],
   "source": [
    "m = L.Map(layout=Layout(width='60%', height='700px'), center=[59.95, 10.3])\n",
    "machine = loader._machines[13]\n",
    "for trip in machine.trips[:100]:\n",
    "    poly = L.Polyline(locations=trip.latlons)\n",
    "    m.add_layer(poly)\n",
    "display(m)"
   ]
  },
  {
   "cell_type": "code",
   "execution_count": 7,
   "metadata": {},
   "outputs": [
    {
     "name": "stdout",
     "output_type": "stream",
     "text": [
      "[(59.972234034659486, 10.324105050358586), (59.97856148112283, 10.334516067023081)]\n",
      "[(59.9723922966532, 10.319350863592176), (59.9787739503213, 10.325758516227076)]\n"
     ]
    },
    {
     "data": {
      "application/vnd.jupyter.widget-view+json": {
       "model_id": "faa1012e301142069e5616a948000283",
       "version_major": 2,
       "version_minor": 0
      },
      "text/plain": [
       "Map(bottom=4874735.0, center=[59.97544869310396, 10.327513217926027], controls=(ZoomControl(options=['position…"
      ]
     },
     "execution_count": 7,
     "metadata": {},
     "output_type": "execute_result"
    }
   ],
   "source": [
    "import rasterio as rio\n",
    "from pyproj import Transformer\n",
    "import cv2\n",
    "\n",
    "for i, place in enumerate([\"Skaret\", \"Nordlandsdalen\"]):\n",
    "    in_path = f'data/DroneData_2022-03-18_to_2022-05-22/SINTEF - Bjørumskaret/P0{i + 7}_22.03.18_{place}-Orthomosaic.tiff'\n",
    "\n",
    "    with rio.open(in_path) as src:\n",
    "        img = src.read()\n",
    "        min_lon, min_lat, max_lon, max_lat = src.bounds\n",
    "\n",
    "    transformer = Transformer.from_crs(\"EPSG:5110\", \"EPSG:4326\")\n",
    "    # cv2.imwrite(f'tmp/{place}.png', cv2.cvtColor(img.transpose(1, 2, 0), cv2.COLOR_RGB2BGR))\n",
    "        \n",
    "    ## Conversion from UTM to WGS84 CRS\n",
    "    bounds_orig = [transformer.transform(*bounds) for bounds in [[min_lat, min_lon], [max_lat, max_lon]]]\n",
    "    print(bounds_orig)\n",
    "    # Overlay raster (RGB) called img using add_child() function (opacity and bounding box set)\n",
    "    img= L.ImageOverlay(url=f'tmp/{place}.png',\n",
    "                                    bounds = bounds_orig)\n",
    "    m.add_layer(img)\n",
    "m"
   ]
  }
 ],
 "metadata": {
  "kernelspec": {
   "display_name": "Python 3",
   "language": "python",
   "name": "python3"
  },
  "language_info": {
   "codemirror_mode": {
    "name": "ipython",
    "version": 3
   },
   "file_extension": ".py",
   "mimetype": "text/x-python",
   "name": "python",
   "nbconvert_exporter": "python",
   "pygments_lexer": "ipython3",
   "version": "3.10.0"
  },
  "orig_nbformat": 4
 },
 "nbformat": 4,
 "nbformat_minor": 2
}
