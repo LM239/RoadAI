{
 "cells": [
  {
   "cell_type": "code",
   "execution_count": 27,
   "metadata": {},
   "outputs": [
    {
     "name": "stdout",
     "output_type": "stream",
     "text": [
      "The autoreload extension is already loaded. To reload it, use:\n",
      "  %reload_ext autoreload\n"
     ]
    }
   ],
   "source": [
    "%load_ext autoreload\n",
    "%autoreload 2\n",
    "import ipyleaflet as L\n",
    "from dataloader import TripsLoader\n",
    "from typing import Literal\n"
   ]
  },
  {
   "cell_type": "code",
   "execution_count": 28,
   "metadata": {},
   "outputs": [],
   "source": [
    "loader = TripsLoader('05-09-2022')\n"
   ]
  },
  {
   "cell_type": "code",
   "execution_count": 29,
   "metadata": {},
   "outputs": [],
   "source": [
    "def get_trips_by_load(load: Literal['Stone', 'Equipment', 'Soil', '4']):\n",
    "    pass"
   ]
  },
  {
   "cell_type": "code",
   "execution_count": 30,
   "metadata": {},
   "outputs": [
    {
     "name": "stdout",
     "output_type": "stream",
     "text": [
      "{'AREA_OR_POINT': 'Area', 'TIFFTAG_SOFTWARE': 'pix4dmapper'}\n"
     ]
    }
   ],
   "source": [
    "from osgeo import gdal\n",
    "\n",
    "filename=gdal.Open(\"data/DroneData_2022-03-18/P07_22.03.18_Skaret-Orthomosaic.tiff\")\n",
    "\n",
    "metadata=filename.GetMetadata()\n",
    "\n",
    "print(metadata)\n"
   ]
  },
  {
   "cell_type": "code",
   "execution_count": null,
   "metadata": {},
   "outputs": [],
   "source": []
  },
  {
   "cell_type": "code",
   "execution_count": 31,
   "metadata": {},
   "outputs": [
    {
     "data": {
      "application/vnd.jupyter.widget-view+json": {
       "model_id": "13dd465b065240239a2dc382eba7a1b2",
       "version_major": 2,
       "version_minor": 0
      },
      "text/plain": [
       "Map(center=[59.95, 10.3], controls=(ZoomControl(options=['position', 'zoom_in_text', 'zoom_in_title', 'zoom_ou…"
      ]
     },
     "metadata": {},
     "output_type": "display_data"
    }
   ],
   "source": [
    "m = L.Map(width='50%', height='50%', center=[59.95, 10.3])\n",
    "machine = loader._machines[13]\n",
    "for trip in machine.trips[:100]:\n",
    "    poly = L.Polyline(locations=trip.latlons)\n",
    "    m.add_layer(poly)\n",
    "display(m)"
   ]
  },
  {
   "cell_type": "code",
   "execution_count": 37,
   "metadata": {},
   "outputs": [
    {
     "ename": "AttributeError",
     "evalue": "'DatasetReader' object has no attribute 'dtype'",
     "output_type": "error",
     "traceback": [
      "\u001b[0;31m---------------------------------------------------------------------------\u001b[0m",
      "\u001b[0;31mAttributeError\u001b[0m                            Traceback (most recent call last)",
      "Cell \u001b[0;32mIn[37], line 12\u001b[0m\n\u001b[1;32m      9\u001b[0m     min_lon, min_lat, max_lon, max_lat \u001b[39m=\u001b[39m src\u001b[39m.\u001b[39mbounds\n\u001b[1;32m     11\u001b[0m transformer \u001b[39m=\u001b[39m Transformer\u001b[39m.\u001b[39mfrom_crs(\u001b[39m\"\u001b[39m\u001b[39mEPSG:5110\u001b[39m\u001b[39m\"\u001b[39m, \u001b[39m\"\u001b[39m\u001b[39mEPSG:4326\u001b[39m\u001b[39m\"\u001b[39m)\n\u001b[0;32m---> 12\u001b[0m \u001b[39mwith\u001b[39;00m rio\u001b[39m.\u001b[39mopen(\u001b[39m'\u001b[39m\u001b[39mtile.jpg\u001b[39m\u001b[39m'\u001b[39m, \u001b[39m'\u001b[39m\u001b[39mw\u001b[39m\u001b[39m'\u001b[39m, driver\u001b[39m=\u001b[39m\u001b[39m'\u001b[39m\u001b[39mGTiff\u001b[39m\u001b[39m'\u001b[39m, count\u001b[39m=\u001b[39m\u001b[39m3\u001b[39m,dtype\u001b[39m=\u001b[39msrc\u001b[39m.\u001b[39;49mdtype) \u001b[39mas\u001b[39;00m tile:\n\u001b[1;32m     13\u001b[0m   src \u001b[39m=\u001b[39m np\u001b[39m.\u001b[39mmoveaxis(src, [\u001b[39m0\u001b[39m, \u001b[39m1\u001b[39m, \u001b[39m2\u001b[39m], [\u001b[39m2\u001b[39m, \u001b[39m1\u001b[39m, \u001b[39m0\u001b[39m])\n\u001b[1;32m     14\u001b[0m   tile\u001b[39m.\u001b[39mwrite(src)\n",
      "\u001b[0;31mAttributeError\u001b[0m: 'DatasetReader' object has no attribute 'dtype'"
     ]
    }
   ],
   "source": [
    "import rasterio as rio\n",
    "from pyproj import Transformer\n",
    "in_path = 'data/DroneData_2022-03-18/P07_22.03.18_Skaret-Orthomosaic.tiff'\n",
    "import cv2\n",
    "\n",
    "\n",
    "with rio.open(in_path) as src:\n",
    "    img = src.read()\n",
    "    min_lon, min_lat, max_lon, max_lat = src.bounds\n",
    "\n",
    "transformer = Transformer.from_crs(\"EPSG:5110\", \"EPSG:4326\")\n",
    "cv2.imwrite('tmp/tile.png', img.transpose(1, 2, 0))\n",
    "    \n",
    "## Conversion from UTM to WGS84 CRS\n",
    "bounds_orig = [transformer.transform(*bounds) for bounds in [[min_lat, min_lon], [max_lat, max_lon]]]\n",
    "print(bounds_orig)\n",
    "# Overlay raster (RGB) called img using add_child() function (opacity and bounding box set)\n",
    "img= L.ImageOverlay(url='tmp/tile.png',\n",
    "                                 bounds = bounds_orig)\n",
    "m.add_layer(img)\n",
    "m"
   ]
  }
 ],
 "metadata": {
  "kernelspec": {
   "display_name": "Python 3",
   "language": "python",
   "name": "python3"
  },
  "language_info": {
   "codemirror_mode": {
    "name": "ipython",
    "version": 3
   },
   "file_extension": ".py",
   "mimetype": "text/x-python",
   "name": "python",
   "nbconvert_exporter": "python",
   "pygments_lexer": "ipython3",
   "version": "3.10.0"
  },
  "orig_nbformat": 4
 },
 "nbformat": 4,
 "nbformat_minor": 2
}
