{
 "cells": [
  {
   "cell_type": "markdown",
   "metadata": {},
   "source": [
    "# Daily report\n",
    "\n",
    "This notebook is intended to showcase the automatic daily report algorithm. We will initialize the class and explore the different possibilities we have.\n",
    "\n",
    "# Required folder and data structure\n",
    "\n",
    "The required folder structure, where 'data' folder is top level:\n",
    "\n",
    "<pre>\n",
    "data/                  <-- This is the top-level directory\n",
    "└── GPSData/           <-- This is the second-level directory\n",
    "    ├── trips/         <-- These are third-level directories\n",
    "    └── tripInfo/      <-- These are third-level directories\n",
    "</pre>\n",
    "\n",
    "\n",
    "Folder 'trips' and 'tripsInfo' should contain GPS files on form MM-DD-YYYY.csv with columns:\n",
    "* **trips**: TripLogId, Timestamp, Latitude, Longitude, Uncertainty\n",
    "* **tripsInfo**: TripLogId, DumperMachineNumber, MachineType, LoadLongitude, LoadLatitude, DumpLongitude, DumpLatitude, MassTypeMaterial, Quantity \n",
    "\n",
    "\n",
    "We begin by loading necessary libraries, including our class (which can be found in **daily_report.py**)."
   ]
  },
  {
   "cell_type": "code",
   "execution_count": null,
   "metadata": {},
   "outputs": [],
   "source": [
    "GPS_DATA_DIRECTORY = \"data/GPSData\"\n",
    "from daily_report import DailyReport\n",
    "import plotly\n",
    "plotly.offline.init_notebook_mode()\n",
    "from IPython.display import display, clear_output"
   ]
  },
  {
   "cell_type": "markdown",
   "metadata": {},
   "source": [
    "Using the class requires only the specification of a *date*, i.e. a day that would be of interest to gather insight about activity."
   ]
  },
  {
   "cell_type": "code",
   "execution_count": null,
   "metadata": {},
   "outputs": [],
   "source": [
    "date = \"04-26-2022\"  # MM-DD-YYYY\n",
    "daily_report = DailyReport(date, gps_data_dir=GPS_DATA_DIRECTORY)"
   ]
  },
  {
   "cell_type": "markdown",
   "metadata": {},
   "source": [
    "An Interactive plot showcasing the activity for the day. Choose the machine type and the desired amount of dump and load clusters. Click on specific dump and load zones to display the mass moved. "
   ]
  },
  {
   "cell_type": "code",
   "execution_count": null,
   "metadata": {},
   "outputs": [],
   "source": [
    "daily_report.interactive_map.plot_interactive_map(jupyter=True)"
   ]
  },
  {
   "cell_type": "markdown",
   "metadata": {},
   "source": [
    "Make a static version of the interactive map in the current state by running the next cell. (For website display purposes)"
   ]
  },
  {
   "cell_type": "code",
   "execution_count": null,
   "metadata": {},
   "outputs": [],
   "source": [
    "daily_report.interactive_map.plot_static_map()"
   ]
  },
  {
   "cell_type": "markdown",
   "metadata": {},
   "source": [
    "One can also look at the productivity, expressed by tons per hour that the machine has been in activity. We split the productivity by type of load as well. The last trip has been excluded, because of varying practices of reporting."
   ]
  },
  {
   "cell_type": "code",
   "execution_count": null,
   "metadata": {},
   "outputs": [],
   "source": [
    "daily_report.compute_productivity()\n",
    "daily_report.plot_productivity()"
   ]
  },
  {
   "cell_type": "code",
   "execution_count": null,
   "metadata": {},
   "outputs": [],
   "source": [
    "daily_report.print_total_productivity()"
   ]
  },
  {
   "cell_type": "markdown",
   "metadata": {},
   "source": [
    "Specifying a machine type of interest, we can compute idle times and make various plots."
   ]
  },
  {
   "cell_type": "code",
   "execution_count": null,
   "metadata": {},
   "outputs": [],
   "source": [
    "choosen_machine_type = 'Truck' # Truck | Dumper\n",
    "daily_report.compute_idle_times(choosen_machine_type)\n",
    "daily_report.aggregated_idle_timeline()"
   ]
  },
  {
   "cell_type": "markdown",
   "metadata": {},
   "source": [
    "Our first plot will be a plot of the number of machines idle at any given moment. "
   ]
  },
  {
   "cell_type": "code",
   "execution_count": null,
   "metadata": {},
   "outputs": [],
   "source": [
    "daily_report.plot_aggregated_idle_timeline()\n"
   ]
  },
  {
   "cell_type": "markdown",
   "metadata": {},
   "source": [
    "Inspecting the above plot, we notice a peak of 15 idle machines. We can plot maps of the times corresponding to the peak idle times to investigate where the idle machines are positioned. At the same time, we can get an idea about their status by looking at the icon. An excavator signifies a machine (truck or dumper, depending on the previous choice) whose next expected activity is to be loaded. A tipping truck signifies a machine whose next expected activity is to dump. Let us look at the time we reached the peak of 15 idle machines. Choose static=True for .html compatible output."
   ]
  },
  {
   "cell_type": "code",
   "execution_count": null,
   "metadata": {},
   "outputs": [],
   "source": [
    "daily_report.plot_peak_times(1, static=True)"
   ]
  },
  {
   "cell_type": "markdown",
   "metadata": {},
   "source": [
    "Finally, we can look at a heatmap of all idle positions for all machines of the selected type for the selected day."
   ]
  },
  {
   "cell_type": "code",
   "execution_count": null,
   "metadata": {},
   "outputs": [],
   "source": [
    "daily_report.plot_idle_heatmap(static = True)"
   ]
  }
 ],
 "metadata": {
  "kernelspec": {
   "display_name": "Python 3",
   "language": "python",
   "name": "python3"
  },
  "language_info": {
   "codemirror_mode": {
    "name": "ipython",
    "version": 3
   },
   "file_extension": ".py",
   "mimetype": "text/x-python",
   "name": "python",
   "nbconvert_exporter": "python",
   "pygments_lexer": "ipython3",
   "version": "3.11.4"
  },
  "orig_nbformat": 4
 },
 "nbformat": 4,
 "nbformat_minor": 2
}
