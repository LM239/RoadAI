{
 "cells": [
  {
   "cell_type": "code",
   "execution_count": 3,
   "metadata": {},
   "outputs": [],
   "source": [
    "import warnings\n",
    "warnings.simplefilter(action='ignore', category=FutureWarning)\n",
    "\n",
    "import pandas as pd\n",
    "from pathlib import Path\n",
    "import pyproj\n",
    "from math import pi, cos, radians\n"
   ]
  },
  {
   "cell_type": "code",
   "execution_count": 4,
   "metadata": {},
   "outputs": [
    {
     "data": {
      "text/plain": [
       "'Found 73 info files and 73 trip files'"
      ]
     },
     "execution_count": 4,
     "metadata": {},
     "output_type": "execute_result"
    }
   ],
   "source": [
    "info_files = list(Path().glob('data/GPSData/tripsInfo/*.csv'))\n",
    "trip_files = list(Path().glob('data/GPSData/trips/*.csv'))\n",
    "\n",
    "f\"Found {len(info_files)} info files and {len(trip_files)} trip files\""
   ]
  },
  {
   "cell_type": "code",
   "execution_count": 21,
   "metadata": {},
   "outputs": [],
   "source": [
    "def area(df: pd.DataFrame):\n",
    "    latitude = [df[\"Latitude\"].min(), df[\"Latitude\"].max(), df[\"Latitude\"].max(), df[\"Latitude\"].min()]\n",
    "    longitude = [df[\"Longitude\"].min(), df[\"Longitude\"].min(), df[\"Longitude\"].max(), df[\"Longitude\"].max()]\n",
    "    print(latitude)\n",
    "    print(longitude)\n",
    "\n",
    "    earth_radius = 6371009 # in meters\n",
    "    lat_dist = pi * earth_radius / 180.0\n",
    "\n",
    "    y = [lat * lat_dist for lat in latitude]\n",
    "    x = [long * lat_dist * cos(radians(lat)) \n",
    "                for lat, long in zip(latitude, longitude)]\n",
    "    \n",
    "    area = 0.0\n",
    "    for i in range(-1, len(x)-1):\n",
    "        area += x[i] * (y[i+1] - y[i-1])\n",
    "    return abs(area) / 2.0"
   ]
  },
  {
   "cell_type": "code",
   "execution_count": 5,
   "metadata": {},
   "outputs": [],
   "source": [
    "def concat_df(files):\n",
    "    li = []\n",
    "\n",
    "    for filename in files:\n",
    "        df = pd.read_csv(filename, index_col=None, header=0)\n",
    "        li.append(df)\n",
    "\n",
    "    frame = pd.concat(li, axis=0, ignore_index=True)\n",
    "    return frame.reset_index(drop=True)"
   ]
  },
  {
   "cell_type": "code",
   "execution_count": 6,
   "metadata": {},
   "outputs": [
    {
     "data": {
      "text/plain": [
       "0           False\n",
       "1           False\n",
       "2           False\n",
       "3           False\n",
       "4           False\n",
       "            ...  \n",
       "10385566     True\n",
       "10385567     True\n",
       "10385568     True\n",
       "10385569     True\n",
       "10385570     True\n",
       "Name: Timestamp, Length: 10385571, dtype: bool"
      ]
     },
     "metadata": {},
     "output_type": "display_data"
    },
    {
     "data": {
      "text/plain": [
       "0           True\n",
       "1           True\n",
       "2           True\n",
       "3           True\n",
       "4           True\n",
       "            ... \n",
       "10385566    True\n",
       "10385567    True\n",
       "10385568    True\n",
       "10385569    True\n",
       "10385570    True\n",
       "Name: Timestamp, Length: 10385571, dtype: bool"
      ]
     },
     "metadata": {},
     "output_type": "display_data"
    }
   ],
   "source": [
    "\n",
    "info_df = concat_df(info_files)\n",
    "trip_df = concat_df(trip_files)\n",
    "\n",
    "time_stamp_format1 = pd.to_datetime(trip_df[\"Timestamp\"], errors=\"coerce\")\n",
    "time_stamp_format2 = pd.to_datetime(trip_df[\"Timestamp\"], errors=\"coerce\", format=\"%Y-%m-%d %H:%M:%S%z\")\n",
    "mask = time_stamp_format1.isna()\n",
    "\n",
    "time_stamp_format1[mask] = time_stamp_format2[mask]\n",
    "\n",
    "trip_df[\"Timestamp\"] = time_stamp_format1\n",
    "\n",
    "display(info_df.head(), trip_df.head())"
   ]
  },
  {
   "cell_type": "code",
   "execution_count": null,
   "metadata": {},
   "outputs": [
    {
     "data": {
      "text/plain": [
       "TripLogId              6225a07a03d57f0000de776a\n",
       "Timestamp      2022-03-07 06:04:41.869000+00:00\n",
       "Latitude                              59.546578\n",
       "Longitude                             10.091785\n",
       "Uncertainty                                 1.0\n",
       "dtype: object"
      ]
     },
     "metadata": {},
     "output_type": "display_data"
    },
    {
     "data": {
      "text/plain": [
       "TripLogId              644ab4008fe0870000160317\n",
       "Timestamp      2023-04-30 08:24:59.035000+00:00\n",
       "Latitude                              60.333155\n",
       "Longitude                             11.422569\n",
       "Uncertainty                               198.0\n",
       "dtype: object"
      ]
     },
     "metadata": {},
     "output_type": "display_data"
    }
   ],
   "source": [
    "# display(info_df.min(), info_df.max())\n",
    "display(trip_df.min(), trip_df.max())"
   ]
  },
  {
   "cell_type": "code",
   "execution_count": null,
   "metadata": {},
   "outputs": [
    {
     "data": {
      "text/plain": [
       "TripLogId           0\n",
       "Timestamp      542464\n",
       "Latitude            0\n",
       "Longitude           0\n",
       "Uncertainty         0\n",
       "dtype: int64"
      ]
     },
     "metadata": {},
     "output_type": "display_data"
    },
    {
     "data": {
      "text/plain": [
       "TripLogId                  0\n",
       "DumperMachineNumber      741\n",
       "MachineType                0\n",
       "LoadLongitude              0\n",
       "LoadLatitude               0\n",
       "DumpLongitude              0\n",
       "DumpLatitude               0\n",
       "MassTypeMaterial           0\n",
       "Quantity                   0\n",
       "DumperMachineName      31569\n",
       "dtype: int64"
      ]
     },
     "metadata": {},
     "output_type": "display_data"
    },
    {
     "data": {
      "text/plain": [
       "32310"
      ]
     },
     "metadata": {},
     "output_type": "display_data"
    }
   ],
   "source": [
    "display(trip_df.isna().sum(), info_df.isna().sum(), len(info_df))"
   ]
  },
  {
   "cell_type": "code",
   "execution_count": null,
   "metadata": {},
   "outputs": [
    {
     "data": {
      "text/plain": [
       "'Found 32150 unique trips in the trip logs and 32310 trips with info'"
      ]
     },
     "execution_count": 8,
     "metadata": {},
     "output_type": "execute_result"
    }
   ],
   "source": [
    "f\"Found {len(trip_df['TripLogId'].unique())} unique trips in the trip logs and {len(info_df)} trips with info\""
   ]
  },
  {
   "cell_type": "code",
   "execution_count": null,
   "metadata": {},
   "outputs": [
    {
     "data": {
      "text/plain": [
       "TripLogId               object\n",
       "DumperMachineNumber    float64\n",
       "MachineType             object\n",
       "LoadLongitude          float64\n",
       "LoadLatitude           float64\n",
       "DumpLongitude          float64\n",
       "DumpLatitude           float64\n",
       "MassTypeMaterial        object\n",
       "Quantity               float64\n",
       "DumperMachineName       object\n",
       "dtype: object"
      ]
     },
     "metadata": {},
     "output_type": "display_data"
    },
    {
     "data": {
      "text/plain": [
       "TripLogId                   object\n",
       "Timestamp      datetime64[ns, UTC]\n",
       "Latitude                   float64\n",
       "Longitude                  float64\n",
       "Uncertainty                float64\n",
       "dtype: object"
      ]
     },
     "metadata": {},
     "output_type": "display_data"
    }
   ],
   "source": [
    "display(info_df.dtypes, trip_df.dtypes)"
   ]
  },
  {
   "cell_type": "code",
   "execution_count": null,
   "metadata": {},
   "outputs": [],
   "source": [
    "def convert_coordinates(lat, lon):\n",
    "    utm_converter = pyproj.Proj(init=\"epsg:5110\")\n",
    "    easting, northing = utm_converter(lon, lat)\n",
    "    return easting, northing\n",
    "\n",
    "trip_df[['Easting', 'Northing']] = trip_df.apply(lambda row: pd.Series(convert_coordinates(row['Latitude'], row['Longitude'])), axis=1)\n",
    "trip_df.head()"
   ]
  },
  {
   "cell_type": "code",
   "execution_count": null,
   "metadata": {},
   "outputs": [],
   "source": [
    "import numpy as np\n",
    "grouped_df = trip_df.groupby(\"TripLogId\")\n",
    "unique = set(trip_df[\"TripLogId\"].unique())\n",
    "def get_trips(id: str):\n",
    "    return {'route': grouped_df.get_group(id).drop(\"TripLogId\", axis=1).values} if id in unique else None"
   ]
  },
  {
   "cell_type": "code",
   "execution_count": null,
   "metadata": {},
   "outputs": [
    {
     "name": "stdout",
     "output_type": "stream",
     "text": [
      "(466, 4)\n"
     ]
    },
    {
     "data": {
      "text/plain": [
       "route    [[2022-03-07 06:04:41.869000+00:00, 59.9464884...\n",
       "dtype: object"
      ]
     },
     "execution_count": 78,
     "metadata": {},
     "output_type": "execute_result"
    }
   ],
   "source": [
    "pd.Series(get_trips('6225a07a03d57f0000de776a'))"
   ]
  },
  {
   "cell_type": "markdown",
   "metadata": {},
   "source": []
  },
  {
   "cell_type": "code",
   "execution_count": null,
   "metadata": {},
   "outputs": [
    {
     "data": {
      "text/plain": [
       "array([nan, 'Volvo A45 (4060) 12324060', 'A45 FS (3834) 12323834',\n",
       "       'Scania R580 (AJ91132)', 'Mercedes Arocs (DR67820)',\n",
       "       'Scania R590 (AJ94392) AJ94392 ', 'Mercedes (SD89781) 2763',\n",
       "       'Scania R580 AJ91826', 'Scania R590 AJ94391',\n",
       "       'Scania R580 (PD 70495)', 'Scania R580 (AJ90818)',\n",
       "       'SCANIA R 520 (PD 69848)', 'Mercedes Arocs (SD95898) 2902',\n",
       "       'Volvo A45G FS (3834) 12323834', 'Cat 745 B ( 1484 ) 12321484',\n",
       "       'SCANIA R490 8x4 4AKSLET 2505', 'Scania 590 (AJ94391)',\n",
       "       'Scania R540 AJ94080', 'Scania R 580 (PD 69849)', 'PD 69848'],\n",
       "      dtype=object)"
      ]
     },
     "execution_count": 5,
     "metadata": {},
     "output_type": "execute_result"
    }
   ],
   "source": [
    "info_df[\"DumperMachineName\"].unique()"
   ]
  },
  {
   "cell_type": "code",
   "execution_count": null,
   "metadata": {},
   "outputs": [],
   "source": [
    "combined_df = info_df.copy()\n",
    "combined_df['route'] = combined_df.apply(lambda row: pd.Series(get_trips(row[\"TripLogId\"])), axis=1)"
   ]
  },
  {
   "cell_type": "code",
   "execution_count": null,
   "metadata": {},
   "outputs": [
    {
     "name": "stdout",
     "output_type": "stream",
     "text": [
      "TripLogId                                       6225a07a03d57f0000de776a\n",
      "DumperMachineNumber                                                 20.0\n",
      "MachineType                                                        Truck\n",
      "LoadLongitude                                                   10.38603\n",
      "LoadLatitude                                                   59.946488\n",
      "DumpLongitude                                                  10.324452\n",
      "DumpLatitude                                                    59.97659\n",
      "MassTypeMaterial                                                   Stone\n",
      "Quantity                                                            16.0\n",
      "DumperMachineName                                                    NaN\n",
      "route                  [[2022-03-07 06:04:41.869000+00:00, 59.9464884...\n",
      "Name: 0, dtype: object\n"
     ]
    }
   ],
   "source": [
    "machine_groups = combined_df.groupby(\"DumperMachineNumber\")\n",
    "\n",
    "for machine in info_df['DumperMachineNumber'].unique()[:2]:\n",
    "    machine_df: pd.DataFrame = machine_groups.get_group(machine)\n",
    "    for index, row in machine_df.iterrows():\n",
    "        row.to_dict()\n",
    "        positions = []\n",
    "        print(row)\n",
    "        break\n",
    "    break"
   ]
  },
  {
   "cell_type": "code",
   "execution_count": null,
   "metadata": {},
   "outputs": [
    {
     "data": {
      "text/plain": [
       "array([59.977, 59.94 , 59.951, 59.938, 59.976, 59.95 , 59.978, 59.947,\n",
       "       59.979, 59.953, 59.939, 59.952, 59.974, 59.937, 59.946, 59.964,\n",
       "       59.975, 59.948, 59.944, 59.972, 59.966, 59.973, 59.941, 59.967,\n",
       "       59.969, 59.906, 59.962, 59.943, 59.942, 59.954, 59.945, 59.908,\n",
       "       59.961, 59.971, 59.96 , 59.968, 59.955, 59.97 , 59.957, 59.949,\n",
       "       60.083, 59.963, 59.907, 59.931, 60.032, 59.936, 59.902, 60.13 ,\n",
       "       59.956, 59.958, 60.131, 59.965, 60.174, 60.188, 60.257, 60.091])"
      ]
     },
     "execution_count": 14,
     "metadata": {},
     "output_type": "execute_result"
    }
   ],
   "source": [
    "info_df[\"DumpLatitude\"].apply(lambda row: round(row, 3)).unique()"
   ]
  },
  {
   "cell_type": "code",
   "execution_count": 2,
   "metadata": {},
   "outputs": [
    {
     "name": "stdout",
     "output_type": "stream",
     "text": [
      "[ 3  3 -5  7]\n"
     ]
    }
   ],
   "source": [
    "import numpy as np\n",
    "\n",
    "def calculate_differences(arr):\n",
    "    differences = np.diff(arr)\n",
    "    return differences\n",
    "\n",
    "# Example usage:\n",
    "arr = np.array([1, 4, 7, 2, 9])\n",
    "result = calculate_differences(arr)\n",
    "print(result)"
   ]
  },
  {
   "cell_type": "code",
   "execution_count": 13,
   "metadata": {},
   "outputs": [
    {
     "data": {
      "text/html": [
       "<div>\n",
       "<style scoped>\n",
       "    .dataframe tbody tr th:only-of-type {\n",
       "        vertical-align: middle;\n",
       "    }\n",
       "\n",
       "    .dataframe tbody tr th {\n",
       "        vertical-align: top;\n",
       "    }\n",
       "\n",
       "    .dataframe thead th {\n",
       "        text-align: right;\n",
       "    }\n",
       "</style>\n",
       "<table border=\"1\" class=\"dataframe\">\n",
       "  <thead>\n",
       "    <tr style=\"text-align: right;\">\n",
       "      <th></th>\n",
       "      <th>DumperMachineNumber</th>\n",
       "      <th>DumperMachineName</th>\n",
       "    </tr>\n",
       "  </thead>\n",
       "  <tbody>\n",
       "  </tbody>\n",
       "</table>\n",
       "</div>"
      ],
      "text/plain": [
       "Empty DataFrame\n",
       "Columns: [DumperMachineNumber, DumperMachineName]\n",
       "Index: []"
      ]
     },
     "execution_count": 13,
     "metadata": {},
     "output_type": "execute_result"
    }
   ],
   "source": [
    "name_df = info_df[[\"DumperMachineNumber\", \"DumperMachineName\"]].drop_duplicates().dropna()\n",
    "name_df.head(n=76)"
   ]
  }
 ],
 "metadata": {
  "kernelspec": {
   "display_name": "Python 3",
   "language": "python",
   "name": "python3"
  },
  "language_info": {
   "codemirror_mode": {
    "name": "ipython",
    "version": 3
   },
   "file_extension": ".py",
   "mimetype": "text/x-python",
   "name": "python",
   "nbconvert_exporter": "python",
   "pygments_lexer": "ipython3",
   "version": "3.11.4"
  },
  "orig_nbformat": 4
 },
 "nbformat": 4,
 "nbformat_minor": 2
}
