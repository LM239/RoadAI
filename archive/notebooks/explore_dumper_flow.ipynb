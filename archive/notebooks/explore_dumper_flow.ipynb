{
 "cells": [
  {
   "cell_type": "code",
   "execution_count": 17,
   "metadata": {},
   "outputs": [],
   "source": [
    "import ipyleaflet as L\n",
    "import numpy as np\n",
    "from dataloader import TripsLoader\n",
    "from sklearn.cluster import KMeans\n",
    "from tqdm import tqdm\n",
    "import pandas as pd"
   ]
  },
  {
   "cell_type": "code",
   "execution_count": 18,
   "metadata": {},
   "outputs": [],
   "source": [
    "loader = TripsLoader('04-26-2022')"
   ]
  },
  {
   "cell_type": "code",
   "execution_count": 19,
   "metadata": {},
   "outputs": [
    {
     "name": "stderr",
     "output_type": "stream",
     "text": [
      "100%|██████████| 17/17 [00:00<00:00, 20.97it/s]\n"
     ]
    }
   ],
   "source": [
    "#Dumper statistics\n",
    "nb_of_dumpers = 0\n",
    "km_total = 0\n",
    "quantity_total = 0\n",
    "duration_total = 0\n",
    "dumper_dict = {}\n",
    "\n",
    "for machine_key in tqdm(loader._machines.keys()):\n",
    "    machine = loader._machines[machine_key]\n",
    "    if machine.machine_type=='Dumper':\n",
    "        nb_of_dumpers += 1\n",
    "        km_total += machine.total_length\n",
    "        duration_total += machine.total_duration\n",
    "        dumper_dict[machine.machine_id] = {\n",
    "            'nb_of_trips': len(machine.trips),\n",
    "            'total_length': machine.total_length,\n",
    "            'total_quantity': machine.total_quantity,\n",
    "            'total_duration': machine.total_duration,\n",
    "            'nb_stone_trips': len(machine.stone_trips),\n",
    "            'nb_soil_trips': len(machine.soil_trips),\n",
    "            'nb_equip_trips': len(machine.equipment_trips),\n",
    "            'nb_four_trips': len(machine.four_trips)\n",
    "        }\n"
   ]
  },
  {
   "cell_type": "code",
   "execution_count": 20,
   "metadata": {},
   "outputs": [
    {
     "data": {
      "text/plain": [
       "2"
      ]
     },
     "execution_count": 20,
     "metadata": {},
     "output_type": "execute_result"
    }
   ],
   "source": [
    "nb_of_dumpers"
   ]
  },
  {
   "cell_type": "code",
   "execution_count": 21,
   "metadata": {},
   "outputs": [],
   "source": [
    "dumper_pd = pd.DataFrame.from_dict(dumper_dict, orient='index')"
   ]
  },
  {
   "cell_type": "code",
   "execution_count": 22,
   "metadata": {},
   "outputs": [
    {
     "data": {
      "text/html": [
       "<div>\n",
       "<style scoped>\n",
       "    .dataframe tbody tr th:only-of-type {\n",
       "        vertical-align: middle;\n",
       "    }\n",
       "\n",
       "    .dataframe tbody tr th {\n",
       "        vertical-align: top;\n",
       "    }\n",
       "\n",
       "    .dataframe thead th {\n",
       "        text-align: right;\n",
       "    }\n",
       "</style>\n",
       "<table border=\"1\" class=\"dataframe\">\n",
       "  <thead>\n",
       "    <tr style=\"text-align: right;\">\n",
       "      <th></th>\n",
       "      <th>nb_of_trips</th>\n",
       "      <th>total_length</th>\n",
       "      <th>total_quantity</th>\n",
       "      <th>total_duration</th>\n",
       "      <th>nb_stone_trips</th>\n",
       "      <th>nb_soil_trips</th>\n",
       "      <th>nb_equip_trips</th>\n",
       "      <th>nb_four_trips</th>\n",
       "    </tr>\n",
       "  </thead>\n",
       "  <tbody>\n",
       "    <tr>\n",
       "      <th>37</th>\n",
       "      <td>15</td>\n",
       "      <td>51.917962</td>\n",
       "      <td>600.0</td>\n",
       "      <td>1431.484050</td>\n",
       "      <td>0</td>\n",
       "      <td>0</td>\n",
       "      <td>15</td>\n",
       "      <td>0</td>\n",
       "    </tr>\n",
       "    <tr>\n",
       "      <th>19</th>\n",
       "      <td>49</td>\n",
       "      <td>33.686969</td>\n",
       "      <td>1078.0</td>\n",
       "      <td>704.056683</td>\n",
       "      <td>43</td>\n",
       "      <td>6</td>\n",
       "      <td>0</td>\n",
       "      <td>0</td>\n",
       "    </tr>\n",
       "  </tbody>\n",
       "</table>\n",
       "</div>"
      ],
      "text/plain": [
       "    nb_of_trips  total_length  total_quantity  total_duration  nb_stone_trips  \\\n",
       "37           15     51.917962           600.0     1431.484050               0   \n",
       "19           49     33.686969          1078.0      704.056683              43   \n",
       "\n",
       "    nb_soil_trips  nb_equip_trips  nb_four_trips  \n",
       "37              0              15              0  \n",
       "19              6               0              0  "
      ]
     },
     "execution_count": 22,
     "metadata": {},
     "output_type": "execute_result"
    }
   ],
   "source": [
    "dumper_pd"
   ]
  },
  {
   "cell_type": "code",
   "execution_count": 23,
   "metadata": {},
   "outputs": [],
   "source": [
    "all_positions_of_dumpers = []"
   ]
  },
  {
   "cell_type": "code",
   "execution_count": 24,
   "metadata": {},
   "outputs": [],
   "source": [
    "for machine_key in loader._machines.keys():\n",
    "    machine = loader._machines[machine_key]\n",
    "    if machine.machine_type=='Dumper':\n",
    "        for trip in machine.trips:\n",
    "            for pos in trip.positions:\n",
    "                all_positions_of_dumpers.append((pos.lat, pos.lon))\n",
    "\n",
    "coordinates_array = np.array(all_positions_of_dumpers)"
   ]
  },
  {
   "cell_type": "code",
   "execution_count": 25,
   "metadata": {},
   "outputs": [
    {
     "data": {
      "application/vnd.jupyter.widget-view+json": {
       "model_id": "45851bd90457499799cd0f86594fbd39",
       "version_major": 2,
       "version_minor": 0
      },
      "text/plain": [
       "Map(center=[59.9453250848679, 10.394715934433638], controls=(ZoomControl(options=['position', 'zoom_in_text', …"
      ]
     },
     "execution_count": 25,
     "metadata": {},
     "output_type": "execute_result"
    }
   ],
   "source": [
    "# Create a map centered at the mean of all coordinates, with heatmap\n",
    "map_center = np.mean(coordinates_array, axis=0)\n",
    "m = L.Map(center=(map_center[0], map_center[1]), zoom=10)\n",
    "\n",
    "# Add markers for each cluster center to the map\n",
    "#for center in cluster_centers:\n",
    "#    marker = L.Marker(location=(center[0], center[1]))\n",
    "#    m.add_layer(marker)\n",
    "heatmap = L.Heatmap(locations=all_positions_of_dumpers,radius=20)\n",
    "m.add_layer(heatmap)\n",
    "\n",
    "# Display the map\n",
    "m\n",
    "\n",
    "#Can see two clear clusters in the map, maybe three. Can use K-means to find center of them."
   ]
  },
  {
   "cell_type": "code",
   "execution_count": 46,
   "metadata": {},
   "outputs": [
    {
     "data": {
      "text/plain": [
       "array([[59.93960932, 10.42080402],\n",
       "       [59.93960264, 10.42082036],\n",
       "       [59.93960267, 10.42086756],\n",
       "       ...,\n",
       "       [59.95218607, 10.37476961],\n",
       "       [59.9521941 , 10.3748373 ],\n",
       "       [59.95224598, 10.3747533 ]])"
      ]
     },
     "execution_count": 46,
     "metadata": {},
     "output_type": "execute_result"
    }
   ],
   "source": [
    "coordinates_array"
   ]
  },
  {
   "cell_type": "code",
   "execution_count": 47,
   "metadata": {},
   "outputs": [],
   "source": [
    "# Fit the KMeans model with the optimal K value\n",
    "kmeans = KMeans(n_clusters=2, random_state=42, n_init='auto')\n",
    "kmeans.fit(coordinates_array)\n",
    "\n",
    "# Get the coordinates of the cluster centers for the optimal K value\n",
    "cluster_centers = kmeans.cluster_centers_"
   ]
  },
  {
   "cell_type": "code",
   "execution_count": 48,
   "metadata": {},
   "outputs": [
    {
     "data": {
      "application/vnd.jupyter.widget-view+json": {
       "model_id": "044a73cc77924dcdaf22ce189c1a819e",
       "version_major": 2,
       "version_minor": 0
      },
      "text/plain": [
       "Map(center=[59.94312237689612, 10.405949415768172], controls=(ZoomControl(options=['position', 'zoom_in_text',…"
      ]
     },
     "execution_count": 48,
     "metadata": {},
     "output_type": "execute_result"
    }
   ],
   "source": [
    "# Create a map centered at the mean of all coordinates, with heatmap\n",
    "map_center = np.mean(coordinates_array, axis=0)\n",
    "m = L.Map(center=(map_center[0], map_center[1]), zoom=10)\n",
    "\n",
    "# Add markers for each cluster center to the map\n",
    "for center in cluster_centers:\n",
    "    marker = L.Marker(location=(center[0], center[1]))\n",
    "    m.add_layer(marker)\n",
    "heatmap = L.Heatmap(locations=all_positions_of_dumpers,radius=20)\n",
    "m.add_layer(heatmap)\n",
    "\n",
    "# Display the map\n",
    "m"
   ]
  }
 ],
 "metadata": {
  "kernelspec": {
   "display_name": "Python 3",
   "language": "python",
   "name": "python3"
  },
  "language_info": {
   "codemirror_mode": {
    "name": "ipython",
    "version": 3
   },
   "file_extension": ".py",
   "mimetype": "text/x-python",
   "name": "python",
   "nbconvert_exporter": "python",
   "pygments_lexer": "ipython3",
   "version": "3.11.4"
  },
  "orig_nbformat": 4
 },
 "nbformat": 4,
 "nbformat_minor": 2
}
