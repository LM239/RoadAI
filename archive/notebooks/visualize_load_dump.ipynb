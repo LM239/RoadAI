{
 "cells": [
  {
   "cell_type": "code",
   "execution_count": 2,
   "metadata": {},
   "outputs": [
    {
     "name": "stdout",
     "output_type": "stream",
     "text": [
      "The autoreload extension is already loaded. To reload it, use:\n",
      "  %reload_ext autoreload\n"
     ]
    }
   ],
   "source": [
    "%load_ext autoreload\n",
    "%autoreload 2\n",
    "import ipyleaflet as L\n",
    "from dataloader import TripsLoader\n",
    "from typing import Literal\n",
    "from ipywidgets import Layout\n"
   ]
  },
  {
   "cell_type": "code",
   "execution_count": 3,
   "metadata": {},
   "outputs": [],
   "source": [
    "loader = TripsLoader('03-07-2022')"
   ]
  },
  {
   "cell_type": "code",
   "execution_count": 4,
   "metadata": {},
   "outputs": [],
   "source": [
    "def get_trips_by_load(load: Literal['Stone', 'Equipment', 'Soil', '4']):\n",
    "    pass"
   ]
  },
  {
   "cell_type": "code",
   "execution_count": 5,
   "metadata": {},
   "outputs": [
    {
     "data": {
      "application/vnd.jupyter.widget-view+json": {
       "model_id": "a79529d965254cc2933edc05dd555ab0",
       "version_major": 2,
       "version_minor": 0
      },
      "text/plain": [
       "Map(center=[59.95, 10.3], controls=(ZoomControl(options=['position', 'zoom_in_text', 'zoom_in_title', 'zoom_ou…"
      ]
     },
     "metadata": {},
     "output_type": "display_data"
    }
   ],
   "source": [
    "#<a href=\"https://www.flaticon.com/free-icons/excavator\" title=\"excavator icons\">Excavator icons created by nawicon - Flaticon</a>\n",
    "#<a href=\"https://www.flaticon.com/free-icons/dump\" title=\"dump icons\">Dump icons created by Freepik - Flaticon</a>\n",
    "m = L.Map(layout=Layout(width='60%', height='700px'), center=[59.95, 10.3])\n",
    "machine = loader._machines[36]\n",
    "for trip in machine.trips[:100]:\n",
    "    load_icon = L.Icon(icon_url='https://cdn-icons-png.flaticon.com/512/2716/2716797.png', icon_size=[32, 32], icon_anchor=[16,16])\n",
    "    load_mark = L.Marker(location=trip.load_latlon, icon=load_icon, rotation_angle=0, rotation_origin='22px 94px')\n",
    "    m.add_layer(load_mark)\n",
    "    dump_icon = L.Icon(icon_url='https://cdn-icons-png.flaticon.com/512/1435/1435320.png', icon_size=[32, 32], icon_anchor=[16,16])\n",
    "    dump_mark = L.Marker(location=trip.dump_latlon, icon=dump_icon, rotation_angle=0, rotation_origin='22px 94px')\n",
    "    m.add_layer(dump_mark)\n",
    "display(m)"
   ]
  },
  {
   "cell_type": "code",
   "execution_count": 7,
   "metadata": {},
   "outputs": [
    {
     "ename": "ImportError",
     "evalue": "libGL.so.1: cannot open shared object file: No such file or directory",
     "output_type": "error",
     "traceback": [
      "\u001b[0;31m---------------------------------------------------------------------------\u001b[0m",
      "\u001b[0;31mImportError\u001b[0m                               Traceback (most recent call last)",
      "Cell \u001b[0;32mIn[7], line 3\u001b[0m\n\u001b[1;32m      1\u001b[0m \u001b[39mimport\u001b[39;00m \u001b[39mrasterio\u001b[39;00m \u001b[39mas\u001b[39;00m \u001b[39mrio\u001b[39;00m\n\u001b[1;32m      2\u001b[0m \u001b[39mfrom\u001b[39;00m \u001b[39mpyproj\u001b[39;00m \u001b[39mimport\u001b[39;00m Transformer\n\u001b[0;32m----> 3\u001b[0m \u001b[39mimport\u001b[39;00m \u001b[39mcv2\u001b[39;00m\n\u001b[1;32m      5\u001b[0m \u001b[39mfor\u001b[39;00m i, place \u001b[39min\u001b[39;00m \u001b[39menumerate\u001b[39m([\u001b[39m\"\u001b[39m\u001b[39mSkaret\u001b[39m\u001b[39m\"\u001b[39m, \u001b[39m\"\u001b[39m\u001b[39mNordlandsdalen\u001b[39m\u001b[39m\"\u001b[39m]):\n\u001b[1;32m      6\u001b[0m     in_path \u001b[39m=\u001b[39m \u001b[39mf\u001b[39m\u001b[39m'\u001b[39m\u001b[39mdata/DroneData_2022-03-18_to_2022-05-22/SINTEF - Bjørumskaret/P0\u001b[39m\u001b[39m{\u001b[39;00mi\u001b[39m \u001b[39m\u001b[39m+\u001b[39m\u001b[39m \u001b[39m\u001b[39m7\u001b[39m\u001b[39m}\u001b[39;00m\u001b[39m_22.03.29_\u001b[39m\u001b[39m{\u001b[39;00mplace\u001b[39m}\u001b[39;00m\u001b[39m-Orthomosaic.tiff\u001b[39m\u001b[39m'\u001b[39m\n",
      "File \u001b[0;32m~/.local/lib/python3.11/site-packages/cv2/__init__.py:181\u001b[0m\n\u001b[1;32m    176\u001b[0m             \u001b[39mif\u001b[39;00m DEBUG: \u001b[39mprint\u001b[39m(\u001b[39m\"\u001b[39m\u001b[39mExtra Python code for\u001b[39m\u001b[39m\"\u001b[39m, submodule, \u001b[39m\"\u001b[39m\u001b[39mis loaded\u001b[39m\u001b[39m\"\u001b[39m)\n\u001b[1;32m    178\u001b[0m     \u001b[39mif\u001b[39;00m DEBUG: \u001b[39mprint\u001b[39m(\u001b[39m'\u001b[39m\u001b[39mOpenCV loader: DONE\u001b[39m\u001b[39m'\u001b[39m)\n\u001b[0;32m--> 181\u001b[0m bootstrap()\n",
      "File \u001b[0;32m~/.local/lib/python3.11/site-packages/cv2/__init__.py:153\u001b[0m, in \u001b[0;36mbootstrap\u001b[0;34m()\u001b[0m\n\u001b[1;32m    149\u001b[0m \u001b[39mif\u001b[39;00m DEBUG: \u001b[39mprint\u001b[39m(\u001b[39m\"\u001b[39m\u001b[39mRelink everything from native cv2 module to cv2 package\u001b[39m\u001b[39m\"\u001b[39m)\n\u001b[1;32m    151\u001b[0m py_module \u001b[39m=\u001b[39m sys\u001b[39m.\u001b[39mmodules\u001b[39m.\u001b[39mpop(\u001b[39m\"\u001b[39m\u001b[39mcv2\u001b[39m\u001b[39m\"\u001b[39m)\n\u001b[0;32m--> 153\u001b[0m native_module \u001b[39m=\u001b[39m importlib\u001b[39m.\u001b[39;49mimport_module(\u001b[39m\"\u001b[39;49m\u001b[39mcv2\u001b[39;49m\u001b[39m\"\u001b[39;49m)\n\u001b[1;32m    155\u001b[0m sys\u001b[39m.\u001b[39mmodules[\u001b[39m\"\u001b[39m\u001b[39mcv2\u001b[39m\u001b[39m\"\u001b[39m] \u001b[39m=\u001b[39m py_module\n\u001b[1;32m    156\u001b[0m \u001b[39msetattr\u001b[39m(py_module, \u001b[39m\"\u001b[39m\u001b[39m_native\u001b[39m\u001b[39m\"\u001b[39m, native_module)\n",
      "File \u001b[0;32m/usr/local/lib/python3.11/importlib/__init__.py:126\u001b[0m, in \u001b[0;36mimport_module\u001b[0;34m(name, package)\u001b[0m\n\u001b[1;32m    124\u001b[0m             \u001b[39mbreak\u001b[39;00m\n\u001b[1;32m    125\u001b[0m         level \u001b[39m+\u001b[39m\u001b[39m=\u001b[39m \u001b[39m1\u001b[39m\n\u001b[0;32m--> 126\u001b[0m \u001b[39mreturn\u001b[39;00m _bootstrap\u001b[39m.\u001b[39;49m_gcd_import(name[level:], package, level)\n",
      "\u001b[0;31mImportError\u001b[0m: libGL.so.1: cannot open shared object file: No such file or directory"
     ]
    }
   ],
   "source": [
    "import rasterio as rio\n",
    "from pyproj import Transformer\n",
    "import cv2\n",
    "\n",
    "for i, place in enumerate([\"Skaret\", \"Nordlandsdalen\"]):\n",
    "    in_path = f'data/DroneData_2022-03-18_to_2022-05-22/SINTEF - Bjørumskaret/P0{i + 7}_22.03.29_{place}-Orthomosaic.tiff'\n",
    "\n",
    "    with rio.open(in_path) as src:\n",
    "        img = src.read()\n",
    "        min_lon, min_lat, max_lon, max_lat = src.bounds\n",
    "\n",
    "    transformer = Transformer.from_crs(\"EPSG:5110\", \"EPSG:4326\")\n",
    "    cv2.imwrite(f'../tmp/{place}.png', cv2.cvtColor(img.transpose(1, 2, 0), cv2.COLOR_RGB2BGR))\n",
    "        \n",
    "    ## Conversion from UTM to WGS84 CRS\n",
    "    bounds_orig = [transformer.transform(*bounds) for bounds in [[min_lat, min_lon], [max_lat, max_lon]]]\n",
    "    print(bounds_orig)\n",
    "    # Overlay raster (RGB) called img using add_child() function (opacity and bounding box set)\n",
    "    img= L.ImageOverlay(url=f'../tmp/{place}.png',\n",
    "                                    bounds = bounds_orig)\n",
    "    m.add_layer(img)\n",
    "m"
   ]
  }
 ],
 "metadata": {
  "kernelspec": {
   "display_name": "Python 3",
   "language": "python",
   "name": "python3"
  },
  "language_info": {
   "codemirror_mode": {
    "name": "ipython",
    "version": 3
   },
   "file_extension": ".py",
   "mimetype": "text/x-python",
   "name": "python",
   "nbconvert_exporter": "python",
   "pygments_lexer": "ipython3",
   "version": "3.11.4"
  },
  "orig_nbformat": 4
 },
 "nbformat": 4,
 "nbformat_minor": 2
}
