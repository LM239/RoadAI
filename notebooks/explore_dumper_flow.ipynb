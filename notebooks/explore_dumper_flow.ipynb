{
 "cells": [
  {
   "cell_type": "code",
   "execution_count": 63,
   "metadata": {},
   "outputs": [],
   "source": [
    "import ipyleaflet as L\n",
    "import numpy as np\n",
    "from dataloader import TripsLoader\n",
    "from sklearn.cluster import KMeans\n",
    "from tqdm import tqdm\n",
    "import pandas as pd"
   ]
  },
  {
   "cell_type": "code",
   "execution_count": 64,
   "metadata": {},
   "outputs": [],
   "source": [
    "loader = TripsLoader('03-09-2022')"
   ]
  },
  {
   "cell_type": "code",
   "execution_count": 65,
   "metadata": {},
   "outputs": [
    {
     "name": "stderr",
     "output_type": "stream",
     "text": [
      "100%|██████████| 27/27 [00:00<00:00, 50.13it/s]\n"
     ]
    }
   ],
   "source": [
    "#Dumper statistics\n",
    "nb_of_dumpers = 0\n",
    "km_total = 0\n",
    "quantity_total = 0\n",
    "duration_total = 0\n",
    "dumper_dict = {}\n",
    "\n",
    "for machine_key in tqdm(loader._machines.keys()):\n",
    "    machine = loader._machines[machine_key]\n",
    "    if machine.machine_type=='Dumper':\n",
    "        nb_of_dumpers += 1\n",
    "        km_total += machine.total_length\n",
    "        duration_total += machine.total_duration\n",
    "        dumper_dict[machine.machine_id] = {\n",
    "            'nb_of_trips': len(machine.trips),\n",
    "            'total_length': machine.total_length,\n",
    "            'total_quantity': machine.total_quantity,\n",
    "            'total_duration': machine.total_duration,\n",
    "            'nb_stone_trips': len(machine.stone_trips),\n",
    "            'nb_soil_trips': len(machine.soil_trips),\n",
    "            'nb_equip_trips': len(machine.equipment_trips),\n",
    "            'nb_four_trips': len(machine.four_trips)\n",
    "        }\n"
   ]
  },
  {
   "cell_type": "code",
   "execution_count": 66,
   "metadata": {},
   "outputs": [
    {
     "data": {
      "text/plain": [
       "5"
      ]
     },
     "execution_count": 66,
     "metadata": {},
     "output_type": "execute_result"
    }
   ],
   "source": [
    "nb_of_dumpers"
   ]
  },
  {
   "cell_type": "code",
   "execution_count": 67,
   "metadata": {},
   "outputs": [],
   "source": [
    "dumper_pd = pd.DataFrame.from_dict(dumper_dict, orient='index')"
   ]
  },
  {
   "cell_type": "code",
   "execution_count": 68,
   "metadata": {},
   "outputs": [
    {
     "data": {
      "text/html": [
       "<div>\n",
       "<style scoped>\n",
       "    .dataframe tbody tr th:only-of-type {\n",
       "        vertical-align: middle;\n",
       "    }\n",
       "\n",
       "    .dataframe tbody tr th {\n",
       "        vertical-align: top;\n",
       "    }\n",
       "\n",
       "    .dataframe thead th {\n",
       "        text-align: right;\n",
       "    }\n",
       "</style>\n",
       "<table border=\"1\" class=\"dataframe\">\n",
       "  <thead>\n",
       "    <tr style=\"text-align: right;\">\n",
       "      <th></th>\n",
       "      <th>nb_of_trips</th>\n",
       "      <th>total_length</th>\n",
       "      <th>total_quantity</th>\n",
       "      <th>total_duration</th>\n",
       "      <th>nb_stone_trips</th>\n",
       "      <th>nb_soil_trips</th>\n",
       "      <th>nb_equip_trips</th>\n",
       "      <th>nb_four_trips</th>\n",
       "    </tr>\n",
       "  </thead>\n",
       "  <tbody>\n",
       "    <tr>\n",
       "      <th>41</th>\n",
       "      <td>25</td>\n",
       "      <td>23.630572</td>\n",
       "      <td>750.0</td>\n",
       "      <td>1157.123417</td>\n",
       "      <td>23</td>\n",
       "      <td>2</td>\n",
       "      <td>0</td>\n",
       "      <td>0</td>\n",
       "    </tr>\n",
       "    <tr>\n",
       "      <th>37</th>\n",
       "      <td>16</td>\n",
       "      <td>18.843574</td>\n",
       "      <td>520.0</td>\n",
       "      <td>572.050167</td>\n",
       "      <td>14</td>\n",
       "      <td>2</td>\n",
       "      <td>0</td>\n",
       "      <td>0</td>\n",
       "    </tr>\n",
       "    <tr>\n",
       "      <th>19</th>\n",
       "      <td>17</td>\n",
       "      <td>14.020311</td>\n",
       "      <td>374.0</td>\n",
       "      <td>246.169200</td>\n",
       "      <td>17</td>\n",
       "      <td>0</td>\n",
       "      <td>0</td>\n",
       "      <td>0</td>\n",
       "    </tr>\n",
       "    <tr>\n",
       "      <th>36</th>\n",
       "      <td>7</td>\n",
       "      <td>17.483050</td>\n",
       "      <td>210.0</td>\n",
       "      <td>182.067900</td>\n",
       "      <td>7</td>\n",
       "      <td>0</td>\n",
       "      <td>0</td>\n",
       "      <td>0</td>\n",
       "    </tr>\n",
       "    <tr>\n",
       "      <th>27</th>\n",
       "      <td>15</td>\n",
       "      <td>8.938519</td>\n",
       "      <td>600.0</td>\n",
       "      <td>1003.496133</td>\n",
       "      <td>11</td>\n",
       "      <td>3</td>\n",
       "      <td>1</td>\n",
       "      <td>0</td>\n",
       "    </tr>\n",
       "  </tbody>\n",
       "</table>\n",
       "</div>"
      ],
      "text/plain": [
       "    nb_of_trips  total_length  total_quantity  total_duration  nb_stone_trips  \\\n",
       "41           25     23.630572           750.0     1157.123417              23   \n",
       "37           16     18.843574           520.0      572.050167              14   \n",
       "19           17     14.020311           374.0      246.169200              17   \n",
       "36            7     17.483050           210.0      182.067900               7   \n",
       "27           15      8.938519           600.0     1003.496133              11   \n",
       "\n",
       "    nb_soil_trips  nb_equip_trips  nb_four_trips  \n",
       "41              2               0              0  \n",
       "37              2               0              0  \n",
       "19              0               0              0  \n",
       "36              0               0              0  \n",
       "27              3               1              0  "
      ]
     },
     "execution_count": 68,
     "metadata": {},
     "output_type": "execute_result"
    }
   ],
   "source": [
    "dumper_pd"
   ]
  },
  {
   "cell_type": "code",
   "execution_count": 69,
   "metadata": {},
   "outputs": [],
   "source": [
    "all_positions_of_dumpers = []"
   ]
  },
  {
   "cell_type": "code",
   "execution_count": 70,
   "metadata": {},
   "outputs": [],
   "source": [
    "for machine_key in loader._machines.keys():\n",
    "    machine = loader._machines[machine_key]\n",
    "    if machine.machine_type=='Dumper':\n",
    "        for trip in machine.trips:\n",
    "            for pos in trip.positions:\n",
    "                all_positions_of_dumpers.append((pos.lat, pos.lon))\n",
    "\n",
    "coordinates_array = np.array(all_positions_of_dumpers)"
   ]
  },
  {
   "cell_type": "code",
   "execution_count": 71,
   "metadata": {},
   "outputs": [
    {
     "data": {
      "application/vnd.jupyter.widget-view+json": {
       "model_id": "0de1df8fe53c4b5da01f19d1d732bb1c",
       "version_major": 2,
       "version_minor": 0
      },
      "text/plain": [
       "Map(center=[59.942684897971745, 10.405920494033346], controls=(ZoomControl(options=['position', 'zoom_in_text'…"
      ]
     },
     "execution_count": 71,
     "metadata": {},
     "output_type": "execute_result"
    }
   ],
   "source": [
    "# Create a map centered at the mean of all coordinates, with heatmap\n",
    "map_center = np.mean(coordinates_array, axis=0)\n",
    "m = L.Map(center=(map_center[0], map_center[1]), zoom=10)\n",
    "\n",
    "# Add markers for each cluster center to the map\n",
    "#for center in cluster_centers:\n",
    "#    marker = L.Marker(location=(center[0], center[1]))\n",
    "#    m.add_layer(marker)\n",
    "heatmap = L.Heatmap(locations=all_positions_of_dumpers,radius=20)\n",
    "m.add_layer(heatmap)\n",
    "\n",
    "# Display the map\n",
    "m\n",
    "\n",
    "#Can see two clear clusters in the map, maybe three. Can use K-means to find center of them."
   ]
  },
  {
   "cell_type": "code",
   "execution_count": 72,
   "metadata": {},
   "outputs": [],
   "source": [
    "# Fit the KMeans model with the optimal K value\n",
    "kmeans = KMeans(n_clusters=2, random_state=42, n_init='auto')\n",
    "kmeans.fit(coordinates_array)\n",
    "\n",
    "# Get the coordinates of the cluster centers for the optimal K value\n",
    "cluster_centers = kmeans.cluster_centers_"
   ]
  },
  {
   "cell_type": "code",
   "execution_count": 73,
   "metadata": {},
   "outputs": [
    {
     "data": {
      "application/vnd.jupyter.widget-view+json": {
       "model_id": "c79680003f6a4d9abf5312169adf930b",
       "version_major": 2,
       "version_minor": 0
      },
      "text/plain": [
       "Map(center=[59.942684897971745, 10.405920494033346], controls=(ZoomControl(options=['position', 'zoom_in_text'…"
      ]
     },
     "execution_count": 73,
     "metadata": {},
     "output_type": "execute_result"
    }
   ],
   "source": [
    "# Create a map centered at the mean of all coordinates, with heatmap\n",
    "map_center = np.mean(coordinates_array, axis=0)\n",
    "m = L.Map(center=(map_center[0], map_center[1]), zoom=10)\n",
    "\n",
    "# Add markers for each cluster center to the map\n",
    "for center in cluster_centers:\n",
    "    marker = L.Marker(location=(center[0], center[1]))\n",
    "    m.add_layer(marker)\n",
    "heatmap = L.Heatmap(locations=all_positions_of_dumpers,radius=20)\n",
    "m.add_layer(heatmap)\n",
    "\n",
    "# Display the map\n",
    "m"
   ]
  }
 ],
 "metadata": {
  "kernelspec": {
   "display_name": "Python 3",
   "language": "python",
   "name": "python3"
  },
  "language_info": {
   "codemirror_mode": {
    "name": "ipython",
    "version": 3
   },
   "file_extension": ".py",
   "mimetype": "text/x-python",
   "name": "python",
   "nbconvert_exporter": "python",
   "pygments_lexer": "ipython3",
   "version": "3.11.4"
  },
  "orig_nbformat": 4
 },
 "nbformat": 4,
 "nbformat_minor": 2
}
