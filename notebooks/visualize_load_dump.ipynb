{
 "cells": [
  {
   "cell_type": "code",
   "execution_count": 1,
   "metadata": {},
   "outputs": [],
   "source": [
    "%load_ext autoreload\n",
    "%autoreload 2\n",
    "import ipyleaflet as L\n",
    "from dataloader import TripsLoader\n",
    "from typing import Literal\n",
    "from ipywidgets import Layout\n"
   ]
  },
  {
   "cell_type": "code",
   "execution_count": 2,
   "metadata": {},
   "outputs": [],
   "source": [
    "loader = TripsLoader('03-07-2022')\n"
   ]
  },
  {
   "cell_type": "code",
   "execution_count": 3,
   "metadata": {},
   "outputs": [],
   "source": [
    "def get_trips_by_load(load: Literal['Stone', 'Equipment', 'Soil', '4']):\n",
    "    pass"
   ]
  },
  {
   "cell_type": "code",
   "execution_count": 4,
   "metadata": {},
   "outputs": [
    {
     "data": {
      "application/vnd.jupyter.widget-view+json": {
       "model_id": "38f49eec8b2a4d7a847133ac8974792f",
       "version_major": 2,
       "version_minor": 0
      },
      "text/plain": [
       "Map(center=[59.95, 10.3], controls=(ZoomControl(options=['position', 'zoom_in_text', 'zoom_in_title', 'zoom_ou…"
      ]
     },
     "metadata": {},
     "output_type": "display_data"
    }
   ],
   "source": [
    "#<a href=\"https://www.flaticon.com/free-icons/excavator\" title=\"excavator icons\">Excavator icons created by nawicon - Flaticon</a>\n",
    "#<a href=\"https://www.flaticon.com/free-icons/dump\" title=\"dump icons\">Dump icons created by Freepik - Flaticon</a>\n",
    "m = L.Map(layout=Layout(width='60%', height='700px'), center=[59.95, 10.3])\n",
    "machine = loader._machines[36]\n",
    "for trip in machine.trips[:100]:\n",
    "    load_icon = L.Icon(icon_url='https://cdn-icons-png.flaticon.com/512/2716/2716797.png', icon_size=[32, 32], icon_anchor=[16,16])\n",
    "    load_mark = L.Marker(location=trip.load_latlon, icon=load_icon, rotation_angle=0, rotation_origin='22px 94px')\n",
    "    m.add_layer(load_mark)\n",
    "    dump_icon = L.Icon(icon_url='https://cdn-icons-png.flaticon.com/512/1435/1435320.png', icon_size=[32, 32], icon_anchor=[16,16])\n",
    "    dump_mark = L.Marker(location=trip.dump_latlon, icon=dump_icon, rotation_angle=0, rotation_origin='22px 94px')\n",
    "    m.add_layer(dump_mark)\n",
    "display(m)"
   ]
  },
  {
   "cell_type": "code",
   "execution_count": 5,
   "metadata": {},
   "outputs": [
    {
     "name": "stdout",
     "output_type": "stream",
     "text": [
      "[(59.972234034659486, 10.324105050358586), (59.97856148112283, 10.334516067023081)]\n",
      "[(59.9723922966532, 10.319350863592176), (59.9787739503213, 10.325758516227076)]\n"
     ]
    },
    {
     "data": {
      "application/vnd.jupyter.widget-view+json": {
       "model_id": "38f49eec8b2a4d7a847133ac8974792f",
       "version_major": 2,
       "version_minor": 0
      },
      "text/plain": [
       "Map(center=[59.95, 10.3], controls=(ZoomControl(options=['position', 'zoom_in_text', 'zoom_in_title', 'zoom_ou…"
      ]
     },
     "execution_count": 5,
     "metadata": {},
     "output_type": "execute_result"
    }
   ],
   "source": [
    "import rasterio as rio\n",
    "from pyproj import Transformer\n",
    "import cv2\n",
    "\n",
    "for i, place in enumerate([\"Skaret\", \"Nordlandsdalen\"]):\n",
    "    in_path = f'data/DroneData_2022-03-18_to_2022-05-22/SINTEF - Bjørumskaret/P0{i + 7}_22.03.18_{place}-Orthomosaic.tiff'\n",
    "\n",
    "    with rio.open(in_path) as src:\n",
    "        img = src.read()\n",
    "        min_lon, min_lat, max_lon, max_lat = src.bounds\n",
    "\n",
    "    transformer = Transformer.from_crs(\"EPSG:5110\", \"EPSG:4326\")\n",
    "    # cv2.imwrite(f'../tmp/{place}.png', cv2.cvtColor(img.transpose(1, 2, 0), cv2.COLOR_RGB2BGR))\n",
    "        \n",
    "    ## Conversion from UTM to WGS84 CRS\n",
    "    bounds_orig = [transformer.transform(*bounds) for bounds in [[min_lat, min_lon], [max_lat, max_lon]]]\n",
    "    print(bounds_orig)\n",
    "    # Overlay raster (RGB) called img using add_child() function (opacity and bounding box set)\n",
    "    img= L.ImageOverlay(url=f'../tmp/{place}.png',\n",
    "                                    bounds = bounds_orig)\n",
    "    m.add_layer(img)\n",
    "m"
   ]
  }
 ],
 "metadata": {
  "kernelspec": {
   "display_name": "Python 3",
   "language": "python",
   "name": "python3"
  },
  "language_info": {
   "codemirror_mode": {
    "name": "ipython",
    "version": 3
   },
   "file_extension": ".py",
   "mimetype": "text/x-python",
   "name": "python",
   "nbconvert_exporter": "python",
   "pygments_lexer": "ipython3",
   "version": "3.11.4"
  },
  "orig_nbformat": 4
 },
 "nbformat": 4,
 "nbformat_minor": 2
}
