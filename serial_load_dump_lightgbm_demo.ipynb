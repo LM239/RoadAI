{
    "cells": [
        {
            "cell_type": "markdown",
            "metadata": {},
            "source": [
                "# Automated load and dump detection for trucks with Light Gradient-Boosting Machine (LightGBM)\n",
                "\n",
                "This notebook showcases the application of an automated algorithm for detecting loading and dumping events. LightGBM is employed, a highly time efficient state-of-the-art gradient boosting framework that uses decision trees as weak learners. Additional insights into the methodology can be found in the LightGBM whitepaper at [LightGBM whitepaper](https://proceedings.neurips.cc/paper/6907-lightgbm-a-highly-efficient-gradient-boosting-decision-tree.pdf).\n",
                "\n",
                "The hyperparameters used in the LightGBMClassifier for this project have not been extensively optimized. Performance could potentially be improved through automatic tuning methods such as grid search."
            ]
        },
        {
            "cell_type": "markdown",
            "metadata": {},
            "source": [
                "# Required folder and data structure\n",
                "\n",
                "The required folder structure, where 'data' folder is top level:\n",
                "\n",
                "<pre>\n",
                "data/                  <-- This is the top-level directory\n",
                "└── GPSData/           <-- This is the second-level directory\n",
                "    ├── trips/         <-- These are third-level directories\n",
                "    └── tripInfo/      <-- These are third-level directories\n",
                "</pre>\n",
                "\n",
                "\n",
                "Folder 'trips' and 'tripsInfo' should contain GPS files on form MM-DD-YYYY.csv with columns:\n",
                "* **trips**: TripLogId, Timestamp, Latitude, Longitude, Uncertainty\n",
                "* **tripsInfo**: TripLogId, DumperMachineNumber, MachineType, LoadLongitude, LoadLatitude, DumpLongitude, DumpLatitude, MassTypeMaterial, Quantity "
            ]
        },
        {
            "cell_type": "code",
            "execution_count": 11,
            "metadata": {},
            "outputs": [
                {
                    "name": "stdout",
                    "output_type": "stream",
                    "text": [
                        "Requirement already satisfied: pandas in /root/.local/lib/python3.11/site-packages (from -r requirements.txt (line 1)) (2.1.0)\n",
                        "Requirement already satisfied: notebook in /root/.local/lib/python3.11/site-packages (from -r requirements.txt (line 2)) (7.0.3)\n",
                        "Requirement already satisfied: numpy in /root/.local/lib/python3.11/site-packages (from -r requirements.txt (line 3)) (1.25.2)\n",
                        "Requirement already satisfied: scikit-learn in /root/.local/lib/python3.11/site-packages (from -r requirements.txt (line 4)) (1.3.0)\n",
                        "Requirement already satisfied: matplotlib in /root/.local/lib/python3.11/site-packages (from -r requirements.txt (line 5)) (3.7.2)\n",
                        "Requirement already satisfied: laspy in /root/.local/lib/python3.11/site-packages (from -r requirements.txt (line 6)) (2.5.1)\n",
                        "Requirement already satisfied: pydantic in /root/.local/lib/python3.11/site-packages (from -r requirements.txt (line 7)) (2.3.0)\n",
                        "Requirement already satisfied: pyproj in /root/.local/lib/python3.11/site-packages (from -r requirements.txt (line 8)) (3.6.0)\n",
                        "Requirement already satisfied: h5py in /root/.local/lib/python3.11/site-packages (from -r requirements.txt (line 9)) (3.9.0)\n",
                        "Requirement already satisfied: ipyleaflet in /root/.local/lib/python3.11/site-packages (from -r requirements.txt (line 10)) (0.17.3)\n",
                        "Requirement already satisfied: ipywidgets in /root/.local/lib/python3.11/site-packages (from -r requirements.txt (line 11)) (8.1.0)\n",
                        "Requirement already satisfied: opencv-python in /root/.local/lib/python3.11/site-packages (from -r requirements.txt (line 12)) (4.8.0.76)\n",
                        "Requirement already satisfied: geopy in /root/.local/lib/python3.11/site-packages (from -r requirements.txt (line 13)) (2.4.0)\n",
                        "Requirement already satisfied: plotly in /root/.local/lib/python3.11/site-packages (from -r requirements.txt (line 14)) (5.16.1)\n",
                        "Requirement already satisfied: nbformat in /root/.local/lib/python3.11/site-packages (from -r requirements.txt (line 15)) (5.9.2)\n",
                        "Requirement already satisfied: tqdm in /root/.local/lib/python3.11/site-packages (from -r requirements.txt (line 16)) (4.66.1)\n",
                        "Requirement already satisfied: seaborn in /root/.local/lib/python3.11/site-packages (from -r requirements.txt (line 17)) (0.12.2)\n",
                        "Requirement already satisfied: lightgbm==4.0.0 in /root/.local/lib/python3.11/site-packages (from -r requirements.txt (line 18)) (4.0.0)\n",
                        "Requirement already satisfied: nbconvert in /root/.local/lib/python3.11/site-packages (from -r requirements.txt (line 20)) (7.8.0)\n",
                        "Requirement already satisfied: PyPDF2 in /root/.local/lib/python3.11/site-packages (from -r requirements.txt (line 21)) (3.0.1)\n",
                        "Requirement already satisfied: tabulate in /root/.local/lib/python3.11/site-packages (from -r requirements.txt (line 22)) (0.9.0)\n",
                        "Requirement already satisfied: prettytable in /usr/local/lib/python3.11/site-packages (from -r requirements.txt (line 23)) (3.9.0)\n",
                        "Requirement already satisfied: scipy in /root/.local/lib/python3.11/site-packages (from lightgbm==4.0.0->-r requirements.txt (line 18)) (1.11.2)\n",
                        "Requirement already satisfied: python-dateutil>=2.8.2 in /root/.local/lib/python3.11/site-packages (from pandas->-r requirements.txt (line 1)) (2.8.2)\n",
                        "Requirement already satisfied: pytz>=2020.1 in /root/.local/lib/python3.11/site-packages (from pandas->-r requirements.txt (line 1)) (2023.3.post1)\n",
                        "Requirement already satisfied: tzdata>=2022.1 in /root/.local/lib/python3.11/site-packages (from pandas->-r requirements.txt (line 1)) (2023.3)\n",
                        "Requirement already satisfied: jupyter-server<3,>=2.4.0 in /root/.local/lib/python3.11/site-packages (from notebook->-r requirements.txt (line 2)) (2.7.3)\n",
                        "Requirement already satisfied: jupyterlab-server<3,>=2.22.1 in /root/.local/lib/python3.11/site-packages (from notebook->-r requirements.txt (line 2)) (2.24.0)\n",
                        "Requirement already satisfied: jupyterlab<5,>=4.0.2 in /root/.local/lib/python3.11/site-packages (from notebook->-r requirements.txt (line 2)) (4.0.5)\n",
                        "Requirement already satisfied: notebook-shim<0.3,>=0.2 in /root/.local/lib/python3.11/site-packages (from notebook->-r requirements.txt (line 2)) (0.2.3)\n",
                        "Requirement already satisfied: tornado>=6.2.0 in /root/.local/lib/python3.11/site-packages (from notebook->-r requirements.txt (line 2)) (6.3.3)\n",
                        "Requirement already satisfied: joblib>=1.1.1 in /root/.local/lib/python3.11/site-packages (from scikit-learn->-r requirements.txt (line 4)) (1.3.2)\n",
                        "Requirement already satisfied: threadpoolctl>=2.0.0 in /root/.local/lib/python3.11/site-packages (from scikit-learn->-r requirements.txt (line 4)) (3.2.0)\n",
                        "Requirement already satisfied: contourpy>=1.0.1 in /root/.local/lib/python3.11/site-packages (from matplotlib->-r requirements.txt (line 5)) (1.1.0)\n",
                        "Requirement already satisfied: cycler>=0.10 in /root/.local/lib/python3.11/site-packages (from matplotlib->-r requirements.txt (line 5)) (0.11.0)\n",
                        "Requirement already satisfied: fonttools>=4.22.0 in /root/.local/lib/python3.11/site-packages (from matplotlib->-r requirements.txt (line 5)) (4.42.1)\n",
                        "Requirement already satisfied: kiwisolver>=1.0.1 in /root/.local/lib/python3.11/site-packages (from matplotlib->-r requirements.txt (line 5)) (1.4.5)\n",
                        "Requirement already satisfied: packaging>=20.0 in /root/.local/lib/python3.11/site-packages (from matplotlib->-r requirements.txt (line 5)) (23.1)\n",
                        "Requirement already satisfied: pillow>=6.2.0 in /root/.local/lib/python3.11/site-packages (from matplotlib->-r requirements.txt (line 5)) (10.0.0)\n",
                        "Requirement already satisfied: pyparsing<3.1,>=2.3.1 in /root/.local/lib/python3.11/site-packages (from matplotlib->-r requirements.txt (line 5)) (3.0.9)\n",
                        "Requirement already satisfied: annotated-types>=0.4.0 in /root/.local/lib/python3.11/site-packages (from pydantic->-r requirements.txt (line 7)) (0.5.0)\n",
                        "Requirement already satisfied: pydantic-core==2.6.3 in /root/.local/lib/python3.11/site-packages (from pydantic->-r requirements.txt (line 7)) (2.6.3)\n",
                        "Requirement already satisfied: typing-extensions>=4.6.1 in /root/.local/lib/python3.11/site-packages (from pydantic->-r requirements.txt (line 7)) (4.7.1)\n",
                        "Requirement already satisfied: certifi in /root/.local/lib/python3.11/site-packages (from pyproj->-r requirements.txt (line 8)) (2023.7.22)\n",
                        "Requirement already satisfied: traittypes<3,>=0.2.1 in /root/.local/lib/python3.11/site-packages (from ipyleaflet->-r requirements.txt (line 10)) (0.2.1)\n",
                        "Requirement already satisfied: xyzservices>=2021.8.1 in /root/.local/lib/python3.11/site-packages (from ipyleaflet->-r requirements.txt (line 10)) (2023.7.0)\n",
                        "Requirement already satisfied: branca>=0.5.0 in /root/.local/lib/python3.11/site-packages (from ipyleaflet->-r requirements.txt (line 10)) (0.6.0)\n",
                        "Requirement already satisfied: comm>=0.1.3 in /root/.local/lib/python3.11/site-packages (from ipywidgets->-r requirements.txt (line 11)) (0.1.4)\n",
                        "Requirement already satisfied: ipython>=6.1.0 in /root/.local/lib/python3.11/site-packages (from ipywidgets->-r requirements.txt (line 11)) (8.15.0)\n",
                        "Requirement already satisfied: traitlets>=4.3.1 in /root/.local/lib/python3.11/site-packages (from ipywidgets->-r requirements.txt (line 11)) (5.9.0)\n",
                        "Requirement already satisfied: widgetsnbextension~=4.0.7 in /root/.local/lib/python3.11/site-packages (from ipywidgets->-r requirements.txt (line 11)) (4.0.8)\n",
                        "Requirement already satisfied: jupyterlab-widgets~=3.0.7 in /root/.local/lib/python3.11/site-packages (from ipywidgets->-r requirements.txt (line 11)) (3.0.8)\n",
                        "Requirement already satisfied: geographiclib<3,>=1.52 in /root/.local/lib/python3.11/site-packages (from geopy->-r requirements.txt (line 13)) (2.0)\n",
                        "Requirement already satisfied: tenacity>=6.2.0 in /root/.local/lib/python3.11/site-packages (from plotly->-r requirements.txt (line 14)) (8.2.3)\n",
                        "Requirement already satisfied: fastjsonschema in /root/.local/lib/python3.11/site-packages (from nbformat->-r requirements.txt (line 15)) (2.18.0)\n",
                        "Requirement already satisfied: jsonschema>=2.6 in /root/.local/lib/python3.11/site-packages (from nbformat->-r requirements.txt (line 15)) (4.19.0)\n",
                        "Requirement already satisfied: jupyter-core in /root/.local/lib/python3.11/site-packages (from nbformat->-r requirements.txt (line 15)) (5.3.1)\n",
                        "Requirement already satisfied: beautifulsoup4 in /root/.local/lib/python3.11/site-packages (from nbconvert->-r requirements.txt (line 20)) (4.12.2)\n",
                        "Requirement already satisfied: bleach!=5.0.0 in /root/.local/lib/python3.11/site-packages (from nbconvert->-r requirements.txt (line 20)) (6.0.0)\n",
                        "Requirement already satisfied: defusedxml in /root/.local/lib/python3.11/site-packages (from nbconvert->-r requirements.txt (line 20)) (0.7.1)\n",
                        "Requirement already satisfied: jinja2>=3.0 in /root/.local/lib/python3.11/site-packages (from nbconvert->-r requirements.txt (line 20)) (3.1.2)\n",
                        "Requirement already satisfied: jupyterlab-pygments in /root/.local/lib/python3.11/site-packages (from nbconvert->-r requirements.txt (line 20)) (0.2.2)\n",
                        "Requirement already satisfied: markupsafe>=2.0 in /root/.local/lib/python3.11/site-packages (from nbconvert->-r requirements.txt (line 20)) (2.1.3)\n",
                        "Requirement already satisfied: mistune<4,>=2.0.3 in /root/.local/lib/python3.11/site-packages (from nbconvert->-r requirements.txt (line 20)) (3.0.1)\n",
                        "Requirement already satisfied: nbclient>=0.5.0 in /root/.local/lib/python3.11/site-packages (from nbconvert->-r requirements.txt (line 20)) (0.8.0)\n",
                        "Requirement already satisfied: pandocfilters>=1.4.1 in /root/.local/lib/python3.11/site-packages (from nbconvert->-r requirements.txt (line 20)) (1.5.0)\n",
                        "Requirement already satisfied: pygments>=2.4.1 in /root/.local/lib/python3.11/site-packages (from nbconvert->-r requirements.txt (line 20)) (2.16.1)\n",
                        "Requirement already satisfied: tinycss2 in /root/.local/lib/python3.11/site-packages (from nbconvert->-r requirements.txt (line 20)) (1.2.1)\n",
                        "Requirement already satisfied: wcwidth in /root/.local/lib/python3.11/site-packages (from prettytable->-r requirements.txt (line 23)) (0.2.6)\n",
                        "Requirement already satisfied: six>=1.9.0 in /root/.local/lib/python3.11/site-packages (from bleach!=5.0.0->nbconvert->-r requirements.txt (line 20)) (1.16.0)\n",
                        "Requirement already satisfied: webencodings in /root/.local/lib/python3.11/site-packages (from bleach!=5.0.0->nbconvert->-r requirements.txt (line 20)) (0.5.1)\n",
                        "Requirement already satisfied: backcall in /root/.local/lib/python3.11/site-packages (from ipython>=6.1.0->ipywidgets->-r requirements.txt (line 11)) (0.2.0)\n",
                        "Requirement already satisfied: decorator in /root/.local/lib/python3.11/site-packages (from ipython>=6.1.0->ipywidgets->-r requirements.txt (line 11)) (5.1.1)\n",
                        "Requirement already satisfied: jedi>=0.16 in /root/.local/lib/python3.11/site-packages (from ipython>=6.1.0->ipywidgets->-r requirements.txt (line 11)) (0.19.0)\n",
                        "Requirement already satisfied: matplotlib-inline in /root/.local/lib/python3.11/site-packages (from ipython>=6.1.0->ipywidgets->-r requirements.txt (line 11)) (0.1.6)\n",
                        "Requirement already satisfied: pickleshare in /root/.local/lib/python3.11/site-packages (from ipython>=6.1.0->ipywidgets->-r requirements.txt (line 11)) (0.7.5)\n",
                        "Requirement already satisfied: prompt-toolkit!=3.0.37,<3.1.0,>=3.0.30 in /root/.local/lib/python3.11/site-packages (from ipython>=6.1.0->ipywidgets->-r requirements.txt (line 11)) (3.0.39)\n",
                        "Requirement already satisfied: stack-data in /root/.local/lib/python3.11/site-packages (from ipython>=6.1.0->ipywidgets->-r requirements.txt (line 11)) (0.6.2)\n",
                        "Requirement already satisfied: pexpect>4.3 in /root/.local/lib/python3.11/site-packages (from ipython>=6.1.0->ipywidgets->-r requirements.txt (line 11)) (4.8.0)\n",
                        "Requirement already satisfied: attrs>=22.2.0 in /root/.local/lib/python3.11/site-packages (from jsonschema>=2.6->nbformat->-r requirements.txt (line 15)) (23.1.0)\n",
                        "Requirement already satisfied: jsonschema-specifications>=2023.03.6 in /root/.local/lib/python3.11/site-packages (from jsonschema>=2.6->nbformat->-r requirements.txt (line 15)) (2023.7.1)\n",
                        "Requirement already satisfied: referencing>=0.28.4 in /root/.local/lib/python3.11/site-packages (from jsonschema>=2.6->nbformat->-r requirements.txt (line 15)) (0.30.2)\n",
                        "Requirement already satisfied: rpds-py>=0.7.1 in /root/.local/lib/python3.11/site-packages (from jsonschema>=2.6->nbformat->-r requirements.txt (line 15)) (0.10.2)\n",
                        "Requirement already satisfied: platformdirs>=2.5 in /root/.local/lib/python3.11/site-packages (from jupyter-core->nbformat->-r requirements.txt (line 15)) (3.10.0)\n",
                        "Requirement already satisfied: anyio>=3.1.0 in /root/.local/lib/python3.11/site-packages (from jupyter-server<3,>=2.4.0->notebook->-r requirements.txt (line 2)) (4.0.0)\n",
                        "Requirement already satisfied: argon2-cffi in /root/.local/lib/python3.11/site-packages (from jupyter-server<3,>=2.4.0->notebook->-r requirements.txt (line 2)) (23.1.0)\n",
                        "Requirement already satisfied: jupyter-client>=7.4.4 in /root/.local/lib/python3.11/site-packages (from jupyter-server<3,>=2.4.0->notebook->-r requirements.txt (line 2)) (8.3.1)\n",
                        "Requirement already satisfied: jupyter-events>=0.6.0 in /root/.local/lib/python3.11/site-packages (from jupyter-server<3,>=2.4.0->notebook->-r requirements.txt (line 2)) (0.7.0)\n",
                        "Requirement already satisfied: jupyter-server-terminals in /root/.local/lib/python3.11/site-packages (from jupyter-server<3,>=2.4.0->notebook->-r requirements.txt (line 2)) (0.4.4)\n",
                        "Requirement already satisfied: overrides in /root/.local/lib/python3.11/site-packages (from jupyter-server<3,>=2.4.0->notebook->-r requirements.txt (line 2)) (7.4.0)\n",
                        "Requirement already satisfied: prometheus-client in /root/.local/lib/python3.11/site-packages (from jupyter-server<3,>=2.4.0->notebook->-r requirements.txt (line 2)) (0.17.1)\n",
                        "Requirement already satisfied: pyzmq>=24 in /root/.local/lib/python3.11/site-packages (from jupyter-server<3,>=2.4.0->notebook->-r requirements.txt (line 2)) (25.1.1)\n",
                        "Requirement already satisfied: send2trash>=1.8.2 in /root/.local/lib/python3.11/site-packages (from jupyter-server<3,>=2.4.0->notebook->-r requirements.txt (line 2)) (1.8.2)\n",
                        "Requirement already satisfied: terminado>=0.8.3 in /root/.local/lib/python3.11/site-packages (from jupyter-server<3,>=2.4.0->notebook->-r requirements.txt (line 2)) (0.17.1)\n",
                        "Requirement already satisfied: websocket-client in /root/.local/lib/python3.11/site-packages (from jupyter-server<3,>=2.4.0->notebook->-r requirements.txt (line 2)) (1.6.2)\n",
                        "Requirement already satisfied: async-lru>=1.0.0 in /root/.local/lib/python3.11/site-packages (from jupyterlab<5,>=4.0.2->notebook->-r requirements.txt (line 2)) (2.0.4)\n",
                        "Requirement already satisfied: ipykernel in /root/.local/lib/python3.11/site-packages (from jupyterlab<5,>=4.0.2->notebook->-r requirements.txt (line 2)) (6.25.2)\n",
                        "Requirement already satisfied: jupyter-lsp>=2.0.0 in /root/.local/lib/python3.11/site-packages (from jupyterlab<5,>=4.0.2->notebook->-r requirements.txt (line 2)) (2.2.0)\n",
                        "Requirement already satisfied: babel>=2.10 in /root/.local/lib/python3.11/site-packages (from jupyterlab-server<3,>=2.22.1->notebook->-r requirements.txt (line 2)) (2.12.1)\n",
                        "Requirement already satisfied: json5>=0.9.0 in /root/.local/lib/python3.11/site-packages (from jupyterlab-server<3,>=2.22.1->notebook->-r requirements.txt (line 2)) (0.9.14)\n",
                        "Requirement already satisfied: requests>=2.28 in /root/.local/lib/python3.11/site-packages (from jupyterlab-server<3,>=2.22.1->notebook->-r requirements.txt (line 2)) (2.31.0)\n",
                        "Requirement already satisfied: soupsieve>1.2 in /root/.local/lib/python3.11/site-packages (from beautifulsoup4->nbconvert->-r requirements.txt (line 20)) (2.5)\n",
                        "Requirement already satisfied: idna>=2.8 in /root/.local/lib/python3.11/site-packages (from anyio>=3.1.0->jupyter-server<3,>=2.4.0->notebook->-r requirements.txt (line 2)) (3.4)\n",
                        "Requirement already satisfied: sniffio>=1.1 in /root/.local/lib/python3.11/site-packages (from anyio>=3.1.0->jupyter-server<3,>=2.4.0->notebook->-r requirements.txt (line 2)) (1.3.0)\n",
                        "Requirement already satisfied: parso<0.9.0,>=0.8.3 in /root/.local/lib/python3.11/site-packages (from jedi>=0.16->ipython>=6.1.0->ipywidgets->-r requirements.txt (line 11)) (0.8.3)\n",
                        "Requirement already satisfied: python-json-logger>=2.0.4 in /root/.local/lib/python3.11/site-packages (from jupyter-events>=0.6.0->jupyter-server<3,>=2.4.0->notebook->-r requirements.txt (line 2)) (2.0.7)\n",
                        "Requirement already satisfied: pyyaml>=5.3 in /root/.local/lib/python3.11/site-packages (from jupyter-events>=0.6.0->jupyter-server<3,>=2.4.0->notebook->-r requirements.txt (line 2)) (6.0.1)\n",
                        "Requirement already satisfied: rfc3339-validator in /root/.local/lib/python3.11/site-packages (from jupyter-events>=0.6.0->jupyter-server<3,>=2.4.0->notebook->-r requirements.txt (line 2)) (0.1.4)\n",
                        "Requirement already satisfied: rfc3986-validator>=0.1.1 in /root/.local/lib/python3.11/site-packages (from jupyter-events>=0.6.0->jupyter-server<3,>=2.4.0->notebook->-r requirements.txt (line 2)) (0.1.1)\n",
                        "Requirement already satisfied: ptyprocess>=0.5 in /root/.local/lib/python3.11/site-packages (from pexpect>4.3->ipython>=6.1.0->ipywidgets->-r requirements.txt (line 11)) (0.7.0)\n",
                        "Requirement already satisfied: charset-normalizer<4,>=2 in /root/.local/lib/python3.11/site-packages (from requests>=2.28->jupyterlab-server<3,>=2.22.1->notebook->-r requirements.txt (line 2)) (3.2.0)\n",
                        "Requirement already satisfied: urllib3<3,>=1.21.1 in /root/.local/lib/python3.11/site-packages (from requests>=2.28->jupyterlab-server<3,>=2.22.1->notebook->-r requirements.txt (line 2)) (2.0.4)\n",
                        "Requirement already satisfied: argon2-cffi-bindings in /root/.local/lib/python3.11/site-packages (from argon2-cffi->jupyter-server<3,>=2.4.0->notebook->-r requirements.txt (line 2)) (21.2.0)\n"
                    ]
                }
            ],
            "source": [
                "# install necessary packages\n",
                "!pip install -r requirements.txt"
            ]
        },
        {
            "cell_type": "code",
            "execution_count": null,
            "metadata": {},
            "outputs": [
                {
                    "name": "stdout",
                    "output_type": "stream",
                    "text": [
                        "The autoreload extension is already loaded. To reload it, use:\n",
                        "  %reload_ext autoreload\n"
                    ]
                }
            ],
            "source": [
                "# automatically reload if changes are done in any module\n",
                "%load_ext autoreload\n",
                "%autoreload 2"
            ]
        },
        {
            "cell_type": "code",
            "execution_count": null,
            "metadata": {},
            "outputs": [],
            "source": [
                "GPS_DATA_DIRECTORY = \"data/GPSData\""
            ]
        },
        {
            "cell_type": "markdown",
            "metadata": {},
            "source": [
                "# Initialize model\n",
                "\n",
                "The custom machine learning class created for this project, LoadDumpLightGBM, utilizes functions in folder: **helper_functions** and in **load_dump_lightgbm.py**. LoadDumpLightGBM accepts the following initial (excluding directory) arguments:\n",
                "\n",
                "* *group_size*: Defines the number of data points to be aggregated in the GPS dataset. A larger *group_size* results in a broader time window, enhancing the model's predictive accuracy for loading or dumping events within that timeframe. However, this comes at the cost of temporal precision regarding when these events occur.\n",
                "\n",
                "* *nb_days*: Specifies the number of days to be analyzed. The option 'all' is available for those wishing to leverage their entire dataset. While utilizing more days is likely to improve predictive performance, it will also increase both data-loading and model-training time. The training time increases approximately linearly with *nb_days*.\n",
                "\n",
                "* *starting_from*: Index to start from. A value of 0 implies all days in *nb_days* are employed.\n",
                "\n",
                "* *machine_type*: The model can predict events for both trucks and dumpers, but only for one machine type at a time."
            ]
        },
        {
            "cell_type": "code",
            "execution_count": null,
            "metadata": {},
            "outputs": [
                {
                    "name": "stdout",
                    "output_type": "stream",
                    "text": [
                        "Folders '{trips_folder}' and 'tripsInfo' correctly set up\n",
                        "Initializing class:\n",
                        "----------------------\n",
                        "Data over:  all days.\n",
                        "Merging  5  consecutive timestamps\n",
                        "Model applies on machine type: Truck\n",
                        "All data will be saved to the automatically created path:  data/ml_model_data\n"
                    ]
                }
            ],
            "source": [
                "from load_dump_lightgbm import LoadDumpLightGBM\n",
                "myModel = LoadDumpLightGBM(group_size=5, nb_days=\"all\", starting_from=0, gps_data_dir=GPS_DATA_DIRECTORY, work_dir=\"data/ml_model_data\", machine_type=\"Truck\", trips_folder='serial_trips')  "
            ]
        },
        {
            "cell_type": "markdown",
            "metadata": {},
            "source": [
                "# Load GPS data and construct data set\n",
                "The GPS data is loaded and processed to generate the features and output labels used in the machine learning algorithm. This is a time consuming process and loading and converting the complete data set in data/GPSData may take up to 2 hours. Employing all available GPS data results in a created data set of more than one million timestamps. Although training the model on a larger dataset requires additional time, it is generally found to result in enhanced predictive performance. \n",
                "\n",
                "The data is divided into two sets: training data and unseen testing data. Each of these datasets is saved in its own unique folder within the data/ml_model_data directory. Folders are uniquely named based on the *nb_days* and *starting_from* parameters, allowing for easy identification and retrieval. The training data is split 80/20 into training and validation, resulting in the model training on 0.8 x 0.8 x 100% = 64% of the dataset, while validation and testing represents 16% and 20%, respectively. "
            ]
        },
        {
            "cell_type": "code",
            "execution_count": null,
            "metadata": {},
            "outputs": [
                {
                    "name": "stdout",
                    "output_type": "stream",
                    "text": [
                        "Start at day  03-07-2022\n",
                        "For machine type:  Truck\n"
                    ]
                },
                {
                    "name": "stderr",
                    "output_type": "stream",
                    "text": [
                        "  0%|          | 0/73 [00:00<?, ?it/s]"
                    ]
                },
                {
                    "name": "stdout",
                    "output_type": "stream",
                    "text": [
                        "trips\n"
                    ]
                },
                {
                    "name": "stderr",
                    "output_type": "stream",
                    "text": [
                        "\n"
                    ]
                },
                {
                    "ename": "FileNotFoundError",
                    "evalue": "[Errno 2] No such file or directory: 'serial_trips/trips/03-07-2022.csv'",
                    "output_type": "error",
                    "traceback": [
                        "\u001b[0;31m---------------------------------------------------------------------------\u001b[0m",
                        "\u001b[0;31mFileNotFoundError\u001b[0m                         Traceback (most recent call last)",
                        "\u001b[1;32m/workspaces/RoadAI/serial_load_dump_lightgbm_demo.ipynb Cell 9\u001b[0m line \u001b[0;36m1\n\u001b[0;32m----> <a href='vscode-notebook-cell://dev-container%2B7b22686f737450617468223a22633a5c5c55736572735c5c6c6172686f645c5c446f63756d656e74735c5c526f616441495c5c526f61644149222c22636f6e66696746696c65223a7b22246d6964223a312c22667350617468223a22633a5c5c55736572735c5c6c6172686f645c5c446f63756d656e74735c5c526f616441495c5c526f616441495c5c2e646576636f6e7461696e65725c5c646576636f6e7461696e65722e6a736f6e222c225f736570223a312c2265787465726e616c223a2266696c653a2f2f2f632533412f55736572732f6c6172686f642f446f63756d656e74732f526f616441492f526f616441492f2e646576636f6e7461696e65722f646576636f6e7461696e65722e6a736f6e222c2270617468223a222f633a2f55736572732f6c6172686f642f446f63756d656e74732f526f616441492f526f616441492f2e646576636f6e7461696e65722f646576636f6e7461696e65722e6a736f6e222c22736368656d65223a2266696c65227d7d/workspaces/RoadAI/serial_load_dump_lightgbm_demo.ipynb#X11sdnNjb2RlLXJlbW90ZQ%3D%3D?line=0'>1</a>\u001b[0m myModel\u001b[39m.\u001b[39;49mload_data()\n",
                        "File \u001b[0;32m/workspaces/RoadAI/load_dump_lightgbm.py:432\u001b[0m, in \u001b[0;36mLoadDumpLightGBM.load_data\u001b[0;34m(self)\u001b[0m\n\u001b[1;32m    426\u001b[0m \u001b[39m# Make sure original console behaviour is stored\u001b[39;00m\n\u001b[1;32m    427\u001b[0m \u001b[39m# Pandas raises message for day 03-10-2022\u001b[39;00m\n\u001b[1;32m    429\u001b[0m \u001b[39mfor\u001b[39;00m day \u001b[39min\u001b[39;00m tqdm(\n\u001b[1;32m    430\u001b[0m     \u001b[39mself\u001b[39m\u001b[39m.\u001b[39mdays[\u001b[39mself\u001b[39m\u001b[39m.\u001b[39mstarting_from : \u001b[39mself\u001b[39m\u001b[39m.\u001b[39mstarting_from \u001b[39m+\u001b[39m \u001b[39mself\u001b[39m\u001b[39m.\u001b[39mnb_days]\n\u001b[1;32m    431\u001b[0m ):\n\u001b[0;32m--> 432\u001b[0m     trip \u001b[39m=\u001b[39m dataloader\u001b[39m.\u001b[39;49mTripsLoader(day, \u001b[39mself\u001b[39;49m\u001b[39m.\u001b[39;49mtrips_folder)\n\u001b[1;32m    433\u001b[0m     \u001b[39mfor\u001b[39;00m _, machine \u001b[39min\u001b[39;00m trip\u001b[39m.\u001b[39m_machines\u001b[39m.\u001b[39mitems():\n\u001b[1;32m    434\u001b[0m         \u001b[39mif\u001b[39;00m machine\u001b[39m.\u001b[39mmachine_type \u001b[39m==\u001b[39m \u001b[39mself\u001b[39m\u001b[39m.\u001b[39mmachine_type:\n",
                        "File \u001b[0;32m/workspaces/RoadAI/helper_functions/dataloader.py:17\u001b[0m, in \u001b[0;36mTripsLoader.__init__\u001b[0;34m(self, datestring, gps_data_dir)\u001b[0m\n\u001b[1;32m     15\u001b[0m \u001b[39mself\u001b[39m\u001b[39m.\u001b[39m_machines: \u001b[39mdict\u001b[39m[\u001b[39mint\u001b[39m, Machine] \u001b[39m=\u001b[39m {}\n\u001b[1;32m     16\u001b[0m \u001b[39mself\u001b[39m\u001b[39m.\u001b[39mday: \u001b[39mstr\u001b[39m \u001b[39m=\u001b[39m datestring\n\u001b[0;32m---> 17\u001b[0m info_df, trip_df \u001b[39m=\u001b[39m load_gps_data(\u001b[39mf\u001b[39;49m\u001b[39m\"\u001b[39;49m\u001b[39m{\u001b[39;49;00mdatestring\u001b[39m}\u001b[39;49;00m\u001b[39m.csv\u001b[39;49m\u001b[39m\"\u001b[39;49m, gps_data_dir)\n\u001b[1;32m     19\u001b[0m grouped_df \u001b[39m=\u001b[39m trip_df\u001b[39m.\u001b[39mgroupby(\u001b[39m\"\u001b[39m\u001b[39mTripLogId\u001b[39m\u001b[39m\"\u001b[39m)\n\u001b[1;32m     20\u001b[0m unique \u001b[39m=\u001b[39m \u001b[39mset\u001b[39m(trip_df[\u001b[39m\"\u001b[39m\u001b[39mTripLogId\u001b[39m\u001b[39m\"\u001b[39m]\u001b[39m.\u001b[39munique())\n",
                        "File \u001b[0;32m/workspaces/RoadAI/helper_functions/utils.py:27\u001b[0m, in \u001b[0;36mload_gps_data\u001b[0;34m(date, gps_data_directory, trips_folder)\u001b[0m\n\u001b[1;32m     24\u001b[0m trip_csv_path \u001b[39m=\u001b[39m Path(gps_data_directory) \u001b[39m/\u001b[39m trips_folder \u001b[39m/\u001b[39m date\n\u001b[1;32m     25\u001b[0m info_csv_path \u001b[39m=\u001b[39m Path(gps_data_directory) \u001b[39m/\u001b[39m \u001b[39m\"\u001b[39m\u001b[39mtripsInfo\u001b[39m\u001b[39m\"\u001b[39m \u001b[39m/\u001b[39m date\n\u001b[0;32m---> 27\u001b[0m trip_df \u001b[39m=\u001b[39m pd\u001b[39m.\u001b[39;49mread_csv(trip_csv_path, index_col\u001b[39m=\u001b[39;49m\u001b[39mNone\u001b[39;49;00m, header\u001b[39m=\u001b[39;49m\u001b[39m0\u001b[39;49m)\n\u001b[1;32m     28\u001b[0m info_df \u001b[39m=\u001b[39m pd\u001b[39m.\u001b[39mread_csv(info_csv_path, index_col\u001b[39m=\u001b[39m\u001b[39mNone\u001b[39;00m, header\u001b[39m=\u001b[39m\u001b[39m0\u001b[39m)\n\u001b[1;32m     30\u001b[0m time_stamp_format1 \u001b[39m=\u001b[39m pd\u001b[39m.\u001b[39mto_datetime(trip_df[\u001b[39m\"\u001b[39m\u001b[39mTimestamp\u001b[39m\u001b[39m\"\u001b[39m], errors\u001b[39m=\u001b[39m\u001b[39m\"\u001b[39m\u001b[39mcoerce\u001b[39m\u001b[39m\"\u001b[39m)\n",
                        "File \u001b[0;32m~/.local/lib/python3.11/site-packages/pandas/io/parsers/readers.py:948\u001b[0m, in \u001b[0;36mread_csv\u001b[0;34m(filepath_or_buffer, sep, delimiter, header, names, index_col, usecols, dtype, engine, converters, true_values, false_values, skipinitialspace, skiprows, skipfooter, nrows, na_values, keep_default_na, na_filter, verbose, skip_blank_lines, parse_dates, infer_datetime_format, keep_date_col, date_parser, date_format, dayfirst, cache_dates, iterator, chunksize, compression, thousands, decimal, lineterminator, quotechar, quoting, doublequote, escapechar, comment, encoding, encoding_errors, dialect, on_bad_lines, delim_whitespace, low_memory, memory_map, float_precision, storage_options, dtype_backend)\u001b[0m\n\u001b[1;32m    935\u001b[0m kwds_defaults \u001b[39m=\u001b[39m _refine_defaults_read(\n\u001b[1;32m    936\u001b[0m     dialect,\n\u001b[1;32m    937\u001b[0m     delimiter,\n\u001b[0;32m   (...)\u001b[0m\n\u001b[1;32m    944\u001b[0m     dtype_backend\u001b[39m=\u001b[39mdtype_backend,\n\u001b[1;32m    945\u001b[0m )\n\u001b[1;32m    946\u001b[0m kwds\u001b[39m.\u001b[39mupdate(kwds_defaults)\n\u001b[0;32m--> 948\u001b[0m \u001b[39mreturn\u001b[39;00m _read(filepath_or_buffer, kwds)\n",
                        "File \u001b[0;32m~/.local/lib/python3.11/site-packages/pandas/io/parsers/readers.py:611\u001b[0m, in \u001b[0;36m_read\u001b[0;34m(filepath_or_buffer, kwds)\u001b[0m\n\u001b[1;32m    608\u001b[0m _validate_names(kwds\u001b[39m.\u001b[39mget(\u001b[39m\"\u001b[39m\u001b[39mnames\u001b[39m\u001b[39m\"\u001b[39m, \u001b[39mNone\u001b[39;00m))\n\u001b[1;32m    610\u001b[0m \u001b[39m# Create the parser.\u001b[39;00m\n\u001b[0;32m--> 611\u001b[0m parser \u001b[39m=\u001b[39m TextFileReader(filepath_or_buffer, \u001b[39m*\u001b[39;49m\u001b[39m*\u001b[39;49mkwds)\n\u001b[1;32m    613\u001b[0m \u001b[39mif\u001b[39;00m chunksize \u001b[39mor\u001b[39;00m iterator:\n\u001b[1;32m    614\u001b[0m     \u001b[39mreturn\u001b[39;00m parser\n",
                        "File \u001b[0;32m~/.local/lib/python3.11/site-packages/pandas/io/parsers/readers.py:1448\u001b[0m, in \u001b[0;36mTextFileReader.__init__\u001b[0;34m(self, f, engine, **kwds)\u001b[0m\n\u001b[1;32m   1445\u001b[0m     \u001b[39mself\u001b[39m\u001b[39m.\u001b[39moptions[\u001b[39m\"\u001b[39m\u001b[39mhas_index_names\u001b[39m\u001b[39m\"\u001b[39m] \u001b[39m=\u001b[39m kwds[\u001b[39m\"\u001b[39m\u001b[39mhas_index_names\u001b[39m\u001b[39m\"\u001b[39m]\n\u001b[1;32m   1447\u001b[0m \u001b[39mself\u001b[39m\u001b[39m.\u001b[39mhandles: IOHandles \u001b[39m|\u001b[39m \u001b[39mNone\u001b[39;00m \u001b[39m=\u001b[39m \u001b[39mNone\u001b[39;00m\n\u001b[0;32m-> 1448\u001b[0m \u001b[39mself\u001b[39m\u001b[39m.\u001b[39m_engine \u001b[39m=\u001b[39m \u001b[39mself\u001b[39;49m\u001b[39m.\u001b[39;49m_make_engine(f, \u001b[39mself\u001b[39;49m\u001b[39m.\u001b[39;49mengine)\n",
                        "File \u001b[0;32m~/.local/lib/python3.11/site-packages/pandas/io/parsers/readers.py:1705\u001b[0m, in \u001b[0;36mTextFileReader._make_engine\u001b[0;34m(self, f, engine)\u001b[0m\n\u001b[1;32m   1703\u001b[0m     \u001b[39mif\u001b[39;00m \u001b[39m\"\u001b[39m\u001b[39mb\u001b[39m\u001b[39m\"\u001b[39m \u001b[39mnot\u001b[39;00m \u001b[39min\u001b[39;00m mode:\n\u001b[1;32m   1704\u001b[0m         mode \u001b[39m+\u001b[39m\u001b[39m=\u001b[39m \u001b[39m\"\u001b[39m\u001b[39mb\u001b[39m\u001b[39m\"\u001b[39m\n\u001b[0;32m-> 1705\u001b[0m \u001b[39mself\u001b[39m\u001b[39m.\u001b[39mhandles \u001b[39m=\u001b[39m get_handle(\n\u001b[1;32m   1706\u001b[0m     f,\n\u001b[1;32m   1707\u001b[0m     mode,\n\u001b[1;32m   1708\u001b[0m     encoding\u001b[39m=\u001b[39;49m\u001b[39mself\u001b[39;49m\u001b[39m.\u001b[39;49moptions\u001b[39m.\u001b[39;49mget(\u001b[39m\"\u001b[39;49m\u001b[39mencoding\u001b[39;49m\u001b[39m\"\u001b[39;49m, \u001b[39mNone\u001b[39;49;00m),\n\u001b[1;32m   1709\u001b[0m     compression\u001b[39m=\u001b[39;49m\u001b[39mself\u001b[39;49m\u001b[39m.\u001b[39;49moptions\u001b[39m.\u001b[39;49mget(\u001b[39m\"\u001b[39;49m\u001b[39mcompression\u001b[39;49m\u001b[39m\"\u001b[39;49m, \u001b[39mNone\u001b[39;49;00m),\n\u001b[1;32m   1710\u001b[0m     memory_map\u001b[39m=\u001b[39;49m\u001b[39mself\u001b[39;49m\u001b[39m.\u001b[39;49moptions\u001b[39m.\u001b[39;49mget(\u001b[39m\"\u001b[39;49m\u001b[39mmemory_map\u001b[39;49m\u001b[39m\"\u001b[39;49m, \u001b[39mFalse\u001b[39;49;00m),\n\u001b[1;32m   1711\u001b[0m     is_text\u001b[39m=\u001b[39;49mis_text,\n\u001b[1;32m   1712\u001b[0m     errors\u001b[39m=\u001b[39;49m\u001b[39mself\u001b[39;49m\u001b[39m.\u001b[39;49moptions\u001b[39m.\u001b[39;49mget(\u001b[39m\"\u001b[39;49m\u001b[39mencoding_errors\u001b[39;49m\u001b[39m\"\u001b[39;49m, \u001b[39m\"\u001b[39;49m\u001b[39mstrict\u001b[39;49m\u001b[39m\"\u001b[39;49m),\n\u001b[1;32m   1713\u001b[0m     storage_options\u001b[39m=\u001b[39;49m\u001b[39mself\u001b[39;49m\u001b[39m.\u001b[39;49moptions\u001b[39m.\u001b[39;49mget(\u001b[39m\"\u001b[39;49m\u001b[39mstorage_options\u001b[39;49m\u001b[39m\"\u001b[39;49m, \u001b[39mNone\u001b[39;49;00m),\n\u001b[1;32m   1714\u001b[0m )\n\u001b[1;32m   1715\u001b[0m \u001b[39massert\u001b[39;00m \u001b[39mself\u001b[39m\u001b[39m.\u001b[39mhandles \u001b[39mis\u001b[39;00m \u001b[39mnot\u001b[39;00m \u001b[39mNone\u001b[39;00m\n\u001b[1;32m   1716\u001b[0m f \u001b[39m=\u001b[39m \u001b[39mself\u001b[39m\u001b[39m.\u001b[39mhandles\u001b[39m.\u001b[39mhandle\n",
                        "File \u001b[0;32m~/.local/lib/python3.11/site-packages/pandas/io/common.py:863\u001b[0m, in \u001b[0;36mget_handle\u001b[0;34m(path_or_buf, mode, encoding, compression, memory_map, is_text, errors, storage_options)\u001b[0m\n\u001b[1;32m    858\u001b[0m \u001b[39melif\u001b[39;00m \u001b[39misinstance\u001b[39m(handle, \u001b[39mstr\u001b[39m):\n\u001b[1;32m    859\u001b[0m     \u001b[39m# Check whether the filename is to be opened in binary mode.\u001b[39;00m\n\u001b[1;32m    860\u001b[0m     \u001b[39m# Binary mode does not support 'encoding' and 'newline'.\u001b[39;00m\n\u001b[1;32m    861\u001b[0m     \u001b[39mif\u001b[39;00m ioargs\u001b[39m.\u001b[39mencoding \u001b[39mand\u001b[39;00m \u001b[39m\"\u001b[39m\u001b[39mb\u001b[39m\u001b[39m\"\u001b[39m \u001b[39mnot\u001b[39;00m \u001b[39min\u001b[39;00m ioargs\u001b[39m.\u001b[39mmode:\n\u001b[1;32m    862\u001b[0m         \u001b[39m# Encoding\u001b[39;00m\n\u001b[0;32m--> 863\u001b[0m         handle \u001b[39m=\u001b[39m \u001b[39mopen\u001b[39;49m(\n\u001b[1;32m    864\u001b[0m             handle,\n\u001b[1;32m    865\u001b[0m             ioargs\u001b[39m.\u001b[39;49mmode,\n\u001b[1;32m    866\u001b[0m             encoding\u001b[39m=\u001b[39;49mioargs\u001b[39m.\u001b[39;49mencoding,\n\u001b[1;32m    867\u001b[0m             errors\u001b[39m=\u001b[39;49merrors,\n\u001b[1;32m    868\u001b[0m             newline\u001b[39m=\u001b[39;49m\u001b[39m\"\u001b[39;49m\u001b[39m\"\u001b[39;49m,\n\u001b[1;32m    869\u001b[0m         )\n\u001b[1;32m    870\u001b[0m     \u001b[39melse\u001b[39;00m:\n\u001b[1;32m    871\u001b[0m         \u001b[39m# Binary mode\u001b[39;00m\n\u001b[1;32m    872\u001b[0m         handle \u001b[39m=\u001b[39m \u001b[39mopen\u001b[39m(handle, ioargs\u001b[39m.\u001b[39mmode)\n",
                        "\u001b[0;31mFileNotFoundError\u001b[0m: [Errno 2] No such file or directory: 'serial_trips/trips/03-07-2022.csv'"
                    ]
                }
            ],
            "source": [
                "myModel.load_data()"
            ]
        },
        {
            "cell_type": "markdown",
            "metadata": {},
            "source": [
                "# Fit model to training data\n",
                "Before initiating the training process, the training data is partitioned into two subsets: a training set and a validation set, which comprise 80% and 20% of the data, respectively. The validation set serves a critical role in assessing the model's generalization performance, aiding in the identification of both underfitting and overfitting scenarios.\n",
                "\n",
                "The training process is designed to terminate automatically based on a predefined early-stopping criterion. Specifically, the model stops training when the validation error fails to improve over a given number of *n* iterations. This approach ensures computational efficiency while guarding against overfitting. Setting the early stopping criteria too low could compromise model performance, making it vulnerable to premature termination due to fluctuating error gradients. Conversely, a number too high enhances the risk of overfitting to training data. To run the model on the same data set while adjusting early stopping criteria and number of iterations, change the attributes of class *CustomLightgbmParams* found in **load_dump_lightgbm.py**. There is no need to use the *load_data* method again; simply reinitialize *myModel* as outlined above.\n",
                "\n",
                "Upon reaching the early-stopping condition, the *fit_model* method outputs relevant diagnostic information. This includes the specified early-stopping criterion, as well as the iteration where the validation error was minimized. Performance metrics for both the training and validation sets are reported in terms of multi-logloss, providing a comprehensive view of the model's efficacy."
            ]
        },
        {
            "cell_type": "code",
            "execution_count": null,
            "metadata": {},
            "outputs": [],
            "source": [
                "myModel.fit_model()"
            ]
        },
        {
            "cell_type": "markdown",
            "metadata": {},
            "source": [
                "# Learning curve\n",
                "The model's learning curve can be visualized using the *plot_learning_curve* method. This curve plots the multi-logloss metric against the number of iterations, offering insights into the model's learning process over time. The graph presents both training and validation errors, allowing for a nuanced understanding of the model's performance. Notably, the y-axis is set on a logarithmic scale, which helps in capturing the nuances of error reduction across iterations more effectively. The observed error gradient is notably negative in early iterations, leveling off to approach zero with increasing iterations. In contrast, the training gradient tends to stabilize over an extended number of iterations. These patterns emphasize the need for early stopping criteria to mitigate the risk of overfitting the training data. The large deviation between validation error and training error also signal inconsistent relations between features and output labels in the data set."
            ]
        },
        {
            "cell_type": "code",
            "execution_count": null,
            "metadata": {},
            "outputs": [],
            "source": [
                "myModel.plot_learning_curve()"
            ]
        },
        {
            "cell_type": "markdown",
            "metadata": {},
            "source": [
                "# Feature importances\n",
                "The *plot_feature_importances* method visualizes the significance of each feature used during the training process. On the x-axis, the numerical values indicate the frequency with which a particular feature is employed to partition nodes in the decision trees. Essentially, features that contribute the most to information gain, or have the most negative impact on the error gradient, are used more frequently for splitting. A higher number on the x-axis thus corresponds to greater feature importance in the model's decision-making process. Each feature (e.g. speed) is replicated *group_size* times to not lose any information regarding the data points that are grouped together into one. For a more precise assessment of each feature's significance, it is suggested by the authors to train the model on an expanded dataset and permit a greater number of iterations."
            ]
        },
        {
            "cell_type": "code",
            "execution_count": null,
            "metadata": {},
            "outputs": [],
            "source": [
                "myModel.plot_feature_importances()"
            ]
        },
        {
            "cell_type": "markdown",
            "metadata": {},
            "source": [
                "# Predict unseen data\n",
                "The *predict_and_save_csv* method is responsible for generating predicted output labels, either \"Driving,\" \"Dump,\" or \"Load\", for the test dataset. This test dataset is located within the data/ml_model_data directory and is stored in a folder corresponding to the specific day under analysis. The method not only performs the predictions but also saves the results in a CSV file for easy access and further evaluation. Be aware that the size of this file can grow substantially, increasing in a fairly linear fashion with the number of days being analyzed."
            ]
        },
        {
            "cell_type": "code",
            "execution_count": null,
            "metadata": {},
            "outputs": [],
            "source": [
                "myModel.predict_and_save_csv()"
            ]
        },
        {
            "cell_type": "markdown",
            "metadata": {},
            "source": [
                "# Statistics\n",
                "The *plot_statistics* method visualizes key classification metrics - precision, recall, and F1-score - for each output label. This approach provides an intuitive and easily interpretable overview of the model's performance across different classes."
            ]
        },
        {
            "cell_type": "code",
            "execution_count": null,
            "metadata": {},
            "outputs": [],
            "source": [
                "myModel.plot_statistics()"
            ]
        },
        {
            "cell_type": "markdown",
            "metadata": {},
            "source": [
                "# Confusion matrix\n",
                "The *plot_confusion_matrix* method visualizes the relationship between true and predicted labels using a heatmap format. The diagonal entries, starting from the top-left corner, represent correct classifications and ideally should have higher values relative to the other numbers in their respective rows and columns. This matrix serves as a comprehensive summary of the model's classification accuracy and its ability to distinguish between different classes."
            ]
        },
        {
            "cell_type": "code",
            "execution_count": null,
            "metadata": {},
            "outputs": [],
            "source": [
                "myModel.plot_confusion_matrix()"
            ]
        }
    ],
    "metadata": {
        "kernelspec": {
            "display_name": "Python 3",
            "language": "python",
            "name": "python3"
        },
        "language_info": {
            "codemirror_mode": {
                "name": "ipython",
                "version": 3
            },
            "file_extension": ".py",
            "mimetype": "text/x-python",
            "name": "python",
            "nbconvert_exporter": "python",
            "pygments_lexer": "ipython3",
            "version": "3.11.4"
        },
        "orig_nbformat": 4
    },
    "nbformat": 4,
    "nbformat_minor": 2
}
