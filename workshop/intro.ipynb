{
 "cells": [
  {
   "cell_type": "markdown",
   "metadata": {},
   "source": [
    "# Introduksjon til RoadAI og data\n",
    "\n",
    "For at koden under skal fungere trenger du data. Data kan lastes ned [her](https://drive.google.com/drive/folders/1_NEoph7pBfK36pVU16cwOh8r6PpkBvwV).\n",
    "\n",
    "Det du trenger er GPSData \\(og eventuelt VibrationData og AEMPdata om det skulle bli interessant\\).\n",
    "\n",
    "Legg dataen i en mappe kalt data, på samme nivå som de andre mappene. I data-mappen bør du ha GPSData med trips og tripsInfo mappene.\n",
    "\n",
    "Har du gjort dette, bør funksjonen under returnere True!"
   ]
  },
  {
   "cell_type": "code",
   "execution_count": null,
   "metadata": {},
   "outputs": [],
   "source": [
    "import os\n",
    "os.path.isfile('./data/GPSData/trips/03-09-2022.csv')"
   ]
  },
  {
   "cell_type": "markdown",
   "metadata": {},
   "source": [
    "# GPS-data\n",
    "\n",
    "Data finnes for dager i mars, april og mai. Vi kan starte med å laste inn noe av dataen og lage noen plot.\n"
   ]
  },
  {
   "cell_type": "code",
   "execution_count": null,
   "metadata": {},
   "outputs": [],
   "source": [
    "# Laster inn dataloader\n",
    "import dataloader\n",
    "\n",
    "# Bestemmer hvilken dag vi vil hente data fra\n",
    "day = '04-06-2022' #MM-DD-YYYY\n",
    "\n",
    "# Laster inn alle turer for alle maskiner som kjørte på den valgte dagen\n",
    "trip = dataloader.TripsLoader(day)\n",
    "\n",
    "# Trip er et Tripsloader-object. Mer info finner du i dataloader.py og schemas.py\n",
    "# Kan printe keys, som viser oss hvilke maskiner som var i sving på den valgte dagen.\n",
    "print(trip._machines.keys())\n"
   ]
  },
  {
   "cell_type": "markdown",
   "metadata": {},
   "source": [
    "Vi kan velge en av maskinene over og se hvilken informasjon som finnes for en gitt maskin på en gitt dag."
   ]
  },
  {
   "cell_type": "code",
   "execution_count": null,
   "metadata": {},
   "outputs": [],
   "source": [
    "# Velger en ID\n",
    "id = 22\n",
    "machine = trip._machines[id]\n",
    "\n",
    "# Kan se enkel info om maskinen\n",
    "print(\"Machine id: \", machine.machine_id)\n",
    "print(\"Machine type:\", machine.machine_type)\n",
    "\n",
    "# Turene til maskinen finnes under trips, som er en liste over alle turene den dagen.\n",
    "# Mer info om trip finnes i schemas.py\n",
    "print(\"Number of trips: \", len(machine.trips))"
   ]
  },
  {
   "cell_type": "markdown",
   "metadata": {},
   "source": [
    "Vi kan ta en nærmere kikk på den første turen, som ligger først i listen."
   ]
  },
  {
   "cell_type": "code",
   "execution_count": null,
   "metadata": {},
   "outputs": [],
   "source": [
    "#Henter ut det første elementet\n",
    "first_trip = machine.trips[0]\n",
    "\n",
    "#Det finnes mye informasjon om turen\n",
    "print(\"Trip start: \", first_trip.start_date)\n",
    "print(\"Trip end: \", first_trip.end_date)\n",
    "print(\"Duration (minutes): \", first_trip.duration)\n",
    "print(\"Load of trip: \", first_trip.load)\n",
    "print(\"Quantity (in tons): \", first_trip.quantity)\n",
    "print(\"Distance driven (kilometers): \", first_trip.length)\n",
    "print(\"Load latlon: \", first_trip.load_latlon)\n",
    "print(\"Dump latlon: \", first_trip.dump_latlon)"
   ]
  },
  {
   "cell_type": "markdown",
   "metadata": {},
   "source": [
    "Alle registrerte posisjoner finnes under positions. Disse kan man bruke til å estimere fart, finne flaskehalser, plotte mm."
   ]
  },
  {
   "cell_type": "code",
   "execution_count": null,
   "metadata": {},
   "outputs": [],
   "source": [
    "positions = first_trip.positions\n",
    "print(\"Number of recorded positions during trip: \", len(positions))"
   ]
  },
  {
   "cell_type": "markdown",
   "metadata": {},
   "source": [
    "Vi kan visualisere turen."
   ]
  },
  {
   "cell_type": "code",
   "execution_count": 31,
   "metadata": {},
   "outputs": [
    {
     "data": {
      "application/vnd.jupyter.widget-view+json": {
       "model_id": "91b05fbf24d64a18b095f0f13776139f",
       "version_major": 2,
       "version_minor": 0
      },
      "text/plain": [
       "Map(center=[59.951776658977145, 10.377696727405308], controls=(ZoomControl(options=['position', 'zoom_in_text'…"
      ]
     },
     "metadata": {},
     "output_type": "display_data"
    }
   ],
   "source": [
    "import ipyleaflet as L\n",
    "from ipywidgets import Layout\n",
    "\n",
    "m = L.Map(layout=Layout(width='60%', height='700px'), center=first_trip.load_latlon)\n",
    "\n",
    "load_icon = L.Icon(icon_url='https://cdn-icons-png.flaticon.com/512/2716/2716797.png', icon_size=[32, 32], icon_anchor=[16,16])\n",
    "load_mark = L.Marker(location=first_trip.load_latlon, icon=load_icon, rotation_angle=0, rotation_origin='22px 94px')\n",
    "m.add_layer(load_mark)\n",
    "\n",
    "dump_icon = L.Icon(icon_url='https://cdn-icons-png.flaticon.com/512/1435/1435320.png', icon_size=[32, 32], icon_anchor=[16,16])\n",
    "dump_mark = L.Marker(location=first_trip.dump_latlon, icon=dump_icon, rotation_angle=0, rotation_origin='22px 94px')\n",
    "m.add_layer(dump_mark)\n",
    "\n",
    "line = L.Polyline(locations=[(pos.lat, pos.lon) for pos in first_trip.positions], color=\"blue\" ,fill=False)\n",
    "m.add_layer(line)\n",
    "\n",
    "display(m)"
   ]
  },
  {
   "cell_type": "code",
   "execution_count": null,
   "metadata": {},
   "outputs": [],
   "source": [
    "#Videreutvikling\n",
    "#Plotte en hel dag med manuelt registrerte loads and dumps\n",
    "#Hente automatisk registrering fra automate_load_and_dump"
   ]
  }
 ],
 "metadata": {
  "kernelspec": {
   "display_name": "Python 3",
   "language": "python",
   "name": "python3"
  },
  "language_info": {
   "codemirror_mode": {
    "name": "ipython",
    "version": 3
   },
   "file_extension": ".py",
   "mimetype": "text/x-python",
   "name": "python",
   "nbconvert_exporter": "python",
   "pygments_lexer": "ipython3",
   "version": "3.11.4"
  },
  "orig_nbformat": 4
 },
 "nbformat": 4,
 "nbformat_minor": 2
}
